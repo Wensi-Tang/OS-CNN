{
  "cells": [
    {
      "cell_type": "code",
      "execution_count": 1,
      "metadata": {
        "colab": {
          "base_uri": "https://localhost:8080/"
        },
        "id": "LTCxd2YX0zzi",
        "outputId": "274d3f00-e355-4505-b28f-a9b56da8c06e"
      },
      "outputs": [
        {
          "name": "stdout",
          "output_type": "stream",
          "text": [
            "Cloning into 'OS-CNN'...\n",
            "remote: Enumerating objects: 557, done.\u001b[K\n",
            "remote: Counting objects: 100% (7/7), done.\u001b[K\n",
            "remote: Compressing objects: 100% (7/7), done.\u001b[K\n",
            "remote: Total 557 (delta 1), reused 4 (delta 0), pack-reused 550\u001b[K\n",
            "Receiving objects: 100% (557/557), 49.18 MiB | 33.09 MiB/s, done.\n",
            "Resolving deltas: 100% (166/166), done.\n",
            "/content/OS-CNN\n"
          ]
        }
      ],
      "source": [
        "# get code from github\n",
        "!git clone https://github.com/Wensi-Tang/OS-CNN.git\n",
        "#change path to OS-CNN\n",
        "%cd /content/OS-CNN"
      ]
    },
    {
      "cell_type": "code",
      "execution_count": 1,
      "metadata": {
        "id": "1n4AoAFr0rMf"
      },
      "outputs": [],
      "source": [
        "import torch\n",
        "from os.path import dirname\n",
        "from utils.dataloader.TSC_data_loader import TSC_data_loader\n",
        "from Classifiers.OS_CNN.OS_CNN_easy_use import OS_CNN_easy_use\n",
        "from sklearn.metrics import accuracy_score\n",
        "import numpy as np\n",
        "import pandas as pd"
      ]
    },
    {
      "cell_type": "code",
      "execution_count": 3,
      "metadata": {
        "colab": {
          "base_uri": "https://localhost:8080/"
        },
        "id": "1Kv-P9go0rMj",
        "outputId": "768804ab-f4db-473b-ba9c-a926f843509e"
      },
      "outputs": [
        {
          "name": "stdout",
          "output_type": "stream",
          "text": [
            "Are we using GPU?:  True\n",
            "the GPU name is:  Tesla P100-PCIE-16GB\n"
          ]
        }
      ],
      "source": [
        "cuda_available = torch.cuda.is_available()\n",
        "print(\"Are we using GPU?: \", cuda_available)\n",
        "if(cuda_available):\n",
        "    print(\"the GPU name is: \",torch.cuda.get_device_name(0))"
      ]
    },
    {
      "cell_type": "code",
      "execution_count": 2,
      "metadata": {
        "id": "3Qe0yfVK0rMo"
      },
      "outputs": [],
      "source": [
        "Result_log_folder = './Results_of_OS_CNN/OS_CNN_result_iter_0/'\n",
        "dataset_path = dirname(\"./Example_Datasets/UCRArchive_2018/\")\n",
        "dataset_name_list = [\n",
        "    \"FiftyWords\"\n",
        "]"
      ]
    },
    {
      "cell_type": "code",
      "execution_count": 3,
      "metadata": {
        "colab": {
          "base_uri": "https://localhost:8080/"
        },
        "id": "jtaphkk_0rMq",
        "outputId": "a4d6854a-f8c1-47b3-a2df-63f97394428b",
        "scrolled": false
      },
      "outputs": [
        {
          "name": "stdout",
          "output_type": "stream",
          "text": [
            "running at: FiftyWords\n",
            "train data shape (450, 270)\n",
            "train label shape (450,)\n",
            "test data shape (455, 270)\n",
            "test label shape (455,)\n",
            "unique train label [ 0  1  2  3  4  5  6  7  8  9 10 11 12 13 14 15 16 17 18 19 20 21 22 23\n",
            " 24 25 26 27 28 29 30 31 32 33 34 35 36 37 38 39 40 41 42 43 44 45 46 47\n",
            " 48 49]\n",
            "unique test label [ 0  1  2  3  4  5  6  7  8  9 10 11 12 13 14 15 16 17 18 19 20 21 22 23\n",
            " 24 25 26 27 28 29 30 31 32 33 34 35 36 37 38 39 40 41 42 43 44 45 46 47\n",
            " 48 49]\n",
            "code is running on  cpu\n"
          ]
        }
      ],
      "source": [
        "for dataset_name in dataset_name_list:\n",
        "    print('running at:', dataset_name)   \n",
        "\n",
        "    # load data,\n",
        "    X_train, y_train, X_test, y_test = TSC_data_loader(dataset_path, dataset_name)\n",
        "    print('train data shape', X_train.shape)\n",
        "    print('train label shape',y_train.shape)\n",
        "    print('test data shape',X_test.shape)\n",
        "    print('test label shape',y_test.shape)\n",
        "    print('unique train label',np.unique(y_train))\n",
        "    print('unique test label',np.unique(y_test))\n",
        "\n",
        "    # creat model and log save place,\n",
        "\n",
        "    model = OS_CNN_easy_use(\n",
        "        Result_log_folder = Result_log_folder, # the Result_log_folder,\n",
        "        dataset_name = dataset_name,           # dataset_name for creat log under Result_log_folder,\n",
        "        device = \"cuda:0\",                # Gpu \n",
        "        max_epoch = 500,                        # In our expirement the number is 2000 for keep it same with FCN for the example dataset 500 will be enough,\n",
        "        paramenter_number_of_layer_list = [8*128, 5*128*256 + 2*256*128],\n",
        "        )\n",
        "\n",
        "    model.fit(X_train, y_train, X_test, y_test)\n",
        "\n",
        "    y_predict = model.predict(X_test)\n",
        "\n",
        "    print('correct:',y_test)\n",
        "    print('predict:',y_predict)\n",
        "    acc = accuracy_score(y_predict, y_test)\n",
        "    print(acc)"
      ]
    },
    {
      "cell_type": "code",
      "execution_count": 5,
      "metadata": {
        "id": "K9jus1sL0rMt"
      },
      "outputs": [],
      "source": []
    }
  ],
  "metadata": {
    "accelerator": "GPU",
    "colab": {
      "collapsed_sections": [],
      "name": "1_1_OS-CNN_easy_use_Run_and_Save_Model.ipynb",
      "provenance": []
    },
    "interpreter": {
      "hash": "f49206fcf84a9145e7e21228cbafa911d1ac18292303b01e865d8267a9c448f7"
    },
    "kernelspec": {
      "display_name": "Python 3.9.7 ('base')",
      "language": "python",
      "name": "python3"
    },
    "language_info": {
      "codemirror_mode": {
        "name": "ipython",
        "version": 3
      },
      "file_extension": ".py",
      "mimetype": "text/x-python",
      "name": "python",
      "nbconvert_exporter": "python",
      "pygments_lexer": "ipython3",
      "version": "3.9.7"
    }
  },
  "nbformat": 4,
  "nbformat_minor": 0
}
