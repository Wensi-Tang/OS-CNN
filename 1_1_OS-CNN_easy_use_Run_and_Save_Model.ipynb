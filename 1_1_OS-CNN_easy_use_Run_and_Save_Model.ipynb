{
  "cells": [
    {
      "cell_type": "code",
      "execution_count": null,
      "metadata": {
        "colab": {
          "base_uri": "https://localhost:8080/"
        },
        "id": "BPo80TCz0IGi",
        "outputId": "372de4d4-11de-4259-baaf-c67188d309e9"
      },
      "outputs": [],
      "source": [
        "import torch\n",
        "print(\"Are we using GPU?: \", torch.cuda.is_available())\n",
        "print(\"the GPU name is: \",torch.cuda.get_device_name(0))"
      ]
    },
    {
      "cell_type": "code",
      "execution_count": null,
      "metadata": {
        "colab": {
          "base_uri": "https://localhost:8080/"
        },
        "id": "NkrJ-BbtySFx",
        "outputId": "433a011b-34ff-4b1f-ab14-717456847ba4"
      },
      "outputs": [],
      "source": [
        "# get code from github\n",
        "!git clone https://github.com/Wensi-Tang/OS-CNN.git\n",
        "#change path to OS-CNN\n",
        "%cd /content/OS-CNN"
      ]
    },
    {
      "cell_type": "code",
      "execution_count": null,
      "metadata": {
        "id": "Tw8B9_-VyDGe",
        "scrolled": false
      },
      "outputs": [],
      "source": [
        "import os\n",
        "from os.path import dirname\n",
        "from utils.dataloader.TSC_data_loader import TSC_data_loader\n",
        "from Classifiers.OS_CNN.OS_CNN_easy_use import OS_CNN_easy_use\n",
        "from sklearn.metrics import accuracy_score\n",
        "import numpy as np\n",
        "import pandas as pd"
      ]
    },
    {
      "cell_type": "code",
      "execution_count": null,
      "metadata": {
        "id": "FCHDWvGxyDGl"
      },
      "outputs": [],
      "source": [
        "Result_log_folder = './Example_Results_of_OS_CNN/OS_CNN_result_iter_0/'\n",
        "dataset_path = dirname(\"./btc_data/\")\n",
        "dataset_name = \"btc_5m.csv\""
      ]
    },
    {
      "cell_type": "code",
      "execution_count": null,
      "metadata": {
        "colab": {
          "base_uri": "https://localhost:8080/"
        },
        "id": "7iGk5R1V2K6v",
        "outputId": "d7f84a3e-988f-4714-f082-42fe33b822a7"
      },
      "outputs": [],
      "source": [
        "# load data,\n",
        "X_train, y_train, X_test, y_test = TSC_data_loader(dataset_path, dataset_name)\n",
        "print(f'train length: {len(X_train)}')\n",
        "print(f'test length: {len(X_test)}')\n",
        "print('train data shape', X_train.shape)\n",
        "print('train label shape',y_train.shape)\n",
        "print('test data shape',X_test.shape)\n",
        "print('test label shape',y_test.shape)\n",
        "print('unique train label',np.unique(y_train))\n",
        "print('unique test label',np.unique(y_test))"
      ]
    },
    {
      "cell_type": "code",
      "execution_count": null,
      "metadata": {
        "id": "0bsoXN6v2O8j"
      },
      "outputs": [],
      "source": [
        "# creat model and log save place,\n",
        "model = OS_CNN_easy_use(\n",
        "    Result_log_folder = Result_log_folder, # the Result_log_folder,\n",
        "    dataset_name = dataset_name,           # dataset_name for creat log under Result_log_folder,\n",
        "    device = \"cuda:0\",                # Gpu \n",
        "    max_epoch = 500,                        # In our expirement the number is 2000 for keep it same with FCN for the example dataset 500 will be enough,\n",
        "    paramenter_number_of_layer_list = [8*128, 5*128*256 + 2*256*128],\n",
        "    )\n"
      ]
    },
    {
      "cell_type": "code",
      "execution_count": null,
      "metadata": {
        "colab": {
          "base_uri": "https://localhost:8080/"
        },
        "id": "yk1Xi7uf2SZJ",
        "outputId": "71f870bf-6ba5-4fdd-c16e-7f9303d4aadd"
      },
      "outputs": [],
      "source": [
        "model.fit(X_train, y_train, X_test, y_test)"
      ]
    },
    {
      "cell_type": "code",
      "execution_count": null,
      "metadata": {
        "colab": {
          "base_uri": "https://localhost:8080/"
        },
        "id": "AH3_NBZA2UQG",
        "outputId": "36dff147-262c-493a-c801-8c61723609eb"
      },
      "outputs": [],
      "source": [
        "y_predict = model.predict(X_test)\n",
        "\n",
        "print('correct:',y_test)\n",
        "print('predict:',y_predict)"
      ]
    },
    {
      "cell_type": "code",
      "execution_count": null,
      "metadata": {
        "colab": {
          "base_uri": "https://localhost:8080/"
        },
        "id": "X8OUCWOE3TOH",
        "outputId": "1a658d24-2a02-4075-89ed-0e76c1c3b349"
      },
      "outputs": [],
      "source": [
        "acc = accuracy_score(y_predict, y_test)\n",
        "print(acc)"
      ]
    }
  ],
  "metadata": {
    "accelerator": "GPU",
    "colab": {
      "collapsed_sections": [],
      "name": "1_1_OS-CNN_BTC_5m.ipynb",
      "provenance": []
    },
    "kernelspec": {
      "display_name": "Python 3",
      "language": "python",
      "name": "python3"
    },
    "language_info": {
      "codemirror_mode": {
        "name": "ipython",
        "version": 3
      },
      "file_extension": ".py",
      "mimetype": "text/x-python",
      "name": "python",
      "nbconvert_exporter": "python",
      "pygments_lexer": "ipython3",
      "version": "3.5.4"
    }
  },
  "nbformat": 4,
  "nbformat_minor": 0
}
