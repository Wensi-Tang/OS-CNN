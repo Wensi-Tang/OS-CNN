{
 "cells": [
  {
   "cell_type": "code",
   "execution_count": 10,
   "metadata": {},
   "outputs": [],
   "source": [
    "import torch\n",
    "from os.path import dirname\n",
    "from utils.dataloader.TSC_data_loader import TSC_data_loader\n",
    "from Classifiers.OS_CNN.OS_CNN_easy_use import OS_CNN_easy_use\n",
    "from sklearn.metrics import accuracy_score\n",
    "import numpy as np\n",
    "import pandas as pd"
   ]
  },
  {
   "cell_type": "code",
   "execution_count": 11,
   "metadata": {},
   "outputs": [
    {
     "name": "stdout",
     "output_type": "stream",
     "text": [
      "Are we using GPU?:  False\n"
     ]
    }
   ],
   "source": [
    "cuda_available = torch.cuda.is_available()\n",
    "print(\"Are we using GPU?: \", cuda_available)\n",
    "if(cuda_available):\n",
    "    print(\"the GPU name is: \",torch.cuda.get_device_name(0))"
   ]
  },
  {
   "cell_type": "code",
   "execution_count": 12,
   "metadata": {},
   "outputs": [
    {
     "name": "stdout",
     "output_type": "stream",
     "text": [
      "[WinError 3] The system cannot find the path specified: '/content/OS-CNN'\n",
      "c:\\dev\\Python\\mastermind\\OS-CNN\n"
     ]
    },
    {
     "name": "stderr",
     "output_type": "stream",
     "text": [
      "fatal: destination path 'OS-CNN' already exists and is not an empty directory.\n"
     ]
    }
   ],
   "source": [
    "# get code from github\n",
    "!git clone https://github.com/Wensi-Tang/OS-CNN.git\n",
    "#change path to OS-CNN\n",
    "%cd /content/OS-CNN"
   ]
  },
  {
   "cell_type": "code",
   "execution_count": 13,
   "metadata": {},
   "outputs": [],
   "source": [
    "Result_log_folder = './Example_Results_of_OS_CNN/OS_CNN_result_iter_0/'\n",
    "dataset_path = dirname(\"./Example_Datasets/UCRArchive_2018/\")\n",
    "dataset_name_list = [\n",
    "    \"FiftyWords\"\n",
    "]"
   ]
  },
  {
   "cell_type": "code",
   "execution_count": 14,
   "metadata": {
    "scrolled": false
   },
   "outputs": [
    {
     "name": "stdout",
     "output_type": "stream",
     "text": [
      "running at: FiftyWords\n",
      "train data shape (450, 270)\n",
      "train label shape (450,)\n",
      "test data shape (455, 270)\n",
      "test label shape (455,)\n",
      "unique train label [ 0  1  2  3  4  5  6  7  8  9 10 11 12 13 14 15 16 17 18 19 20 21 22 23\n",
      " 24 25 26 27 28 29 30 31 32 33 34 35 36 37 38 39 40 41 42 43 44 45 46 47\n",
      " 48 49]\n",
      "unique test label [ 0  1  2  3  4  5  6  7  8  9 10 11 12 13 14 15 16 17 18 19 20 21 22 23\n",
      " 24 25 26 27 28 29 30 31 32 33 34 35 36 37 38 39 40 41 42 43 44 45 46 47\n",
      " 48 49]\n",
      "code is running on  cpu\n",
      "epoch = 49 lr =  0.001\n",
      "train_acc=\t 0.92 \t test_acc=\t 0.7428571428571429 \t loss=\t 0.24334043264389038\n",
      "log saved at:\n",
      "./Example_Results_of_OS_CNN/OS_CNN_result_iter_0/FiftyWords/FiftyWords_.txt\n"
     ]
    }
   ],
   "source": [
    "for dataset_name in dataset_name_list:\n",
    "    print('running at:', dataset_name)   \n",
    "\n",
    "    # load data,\n",
    "    X_train, y_train, X_test, y_test = TSC_data_loader(dataset_path, dataset_name)\n",
    "    print('train data shape', X_train.shape)\n",
    "    print('train label shape',y_train.shape)\n",
    "    print('test data shape',X_test.shape)\n",
    "    print('test label shape',y_test.shape)\n",
    "    print('unique train label',np.unique(y_train))\n",
    "    print('unique test label',np.unique(y_test))\n",
    "\n",
    "    # creat model and log save place,\n",
    "\n",
    "    model = OS_CNN_easy_use(\n",
    "        Result_log_folder = Result_log_folder, # the Result_log_folder,\n",
    "        dataset_name = dataset_name,           # dataset_name for creat log under Result_log_folder,\n",
    "        device = \"cuda:0\",                # Gpu \n",
    "        max_epoch = 500,                        # In our expirement the number is 2000 for keep it same with FCN for the example dataset 500 will be enough,\n",
    "        paramenter_number_of_layer_list = [8*128, 5*128*256 + 2*256*128],\n",
    "        )\n",
    "\n",
    "    model.fit(X_train, y_train, X_test, y_test)\n",
    "\n",
    "    y_predict = model.predict(X_test)\n",
    "\n",
    "    print('correct:',y_test)\n",
    "    print('predict:',y_predict)\n",
    "    acc = accuracy_score(y_predict, y_test)\n",
    "    print(acc)"
   ]
  },
  {
   "cell_type": "code",
   "execution_count": null,
   "metadata": {},
   "outputs": [],
   "source": []
  }
 ],
 "metadata": {
  "kernelspec": {
   "display_name": "Python 3",
   "language": "python",
   "name": "python3"
  },
  "language_info": {
   "codemirror_mode": {
    "name": "ipython",
    "version": 3
   },
   "file_extension": ".py",
   "mimetype": "text/x-python",
   "name": "python",
   "nbconvert_exporter": "python",
   "pygments_lexer": "ipython3",
   "version": "3.5.4"
  }
 },
 "nbformat": 4,
 "nbformat_minor": 2
}
