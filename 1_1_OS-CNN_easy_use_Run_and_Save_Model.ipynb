{
  "cells": [
    {
      "cell_type": "code",
      "source": [
        "# get code from github\n",
        "!git clone https://github.com/Wensi-Tang/OS-CNN.git\n",
        "#change path to OS-CNN\n",
        "%cd /content/OS-CNN"
      ],
      "metadata": {
        "colab": {
          "base_uri": "https://localhost:8080/"
        },
        "id": "LTCxd2YX0zzi",
        "outputId": "274d3f00-e355-4505-b28f-a9b56da8c06e"
      },
      "execution_count": 1,
      "outputs": [
        {
          "output_type": "stream",
          "name": "stdout",
          "text": [
            "Cloning into 'OS-CNN'...\n",
            "remote: Enumerating objects: 557, done.\u001b[K\n",
            "remote: Counting objects: 100% (7/7), done.\u001b[K\n",
            "remote: Compressing objects: 100% (7/7), done.\u001b[K\n",
            "remote: Total 557 (delta 1), reused 4 (delta 0), pack-reused 550\u001b[K\n",
            "Receiving objects: 100% (557/557), 49.18 MiB | 33.09 MiB/s, done.\n",
            "Resolving deltas: 100% (166/166), done.\n",
            "/content/OS-CNN\n"
          ]
        }
      ]
    },
    {
      "cell_type": "code",
      "execution_count": 2,
      "metadata": {
        "id": "1n4AoAFr0rMf"
      },
      "outputs": [],
      "source": [
        "import torch\n",
        "from os.path import dirname\n",
        "from utils.dataloader.TSC_data_loader import TSC_data_loader\n",
        "from Classifiers.OS_CNN.OS_CNN_easy_use import OS_CNN_easy_use\n",
        "from sklearn.metrics import accuracy_score\n",
        "import numpy as np\n",
        "import pandas as pd"
      ]
    },
    {
      "cell_type": "code",
      "execution_count": 3,
      "metadata": {
        "colab": {
          "base_uri": "https://localhost:8080/"
        },
        "id": "1Kv-P9go0rMj",
        "outputId": "768804ab-f4db-473b-ba9c-a926f843509e"
      },
      "outputs": [
        {
          "output_type": "stream",
          "name": "stdout",
          "text": [
            "Are we using GPU?:  True\n",
            "the GPU name is:  Tesla P100-PCIE-16GB\n"
          ]
        }
      ],
      "source": [
        "cuda_available = torch.cuda.is_available()\n",
        "print(\"Are we using GPU?: \", cuda_available)\n",
        "if(cuda_available):\n",
        "    print(\"the GPU name is: \",torch.cuda.get_device_name(0))"
      ]
    },
    {
      "cell_type": "code",
      "execution_count": 4,
      "metadata": {
        "id": "3Qe0yfVK0rMo"
      },
      "outputs": [],
      "source": [
        "Result_log_folder = './Example_Results_of_OS_CNN/OS_CNN_result_iter_0/'\n",
        "dataset_path = dirname(\"./Example_Datasets/UCRArchive_2018/\")\n",
        "dataset_name_list = [\n",
        "    \"FiftyWords\"\n",
        "]"
      ]
    },
    {
      "cell_type": "code",
      "execution_count": 5,
      "metadata": {
        "scrolled": false,
        "colab": {
          "base_uri": "https://localhost:8080/"
        },
        "id": "jtaphkk_0rMq",
        "outputId": "a4d6854a-f8c1-47b3-a2df-63f97394428b"
      },
      "outputs": [
        {
          "output_type": "stream",
          "name": "stdout",
          "text": [
            "running at: FiftyWords\n",
            "train data shape (450, 270)\n",
            "train label shape (450,)\n",
            "test data shape (455, 270)\n",
            "test label shape (455,)\n",
            "unique train label [ 0  1  2  3  4  5  6  7  8  9 10 11 12 13 14 15 16 17 18 19 20 21 22 23\n",
            " 24 25 26 27 28 29 30 31 32 33 34 35 36 37 38 39 40 41 42 43 44 45 46 47\n",
            " 48 49]\n",
            "unique test label [ 0  1  2  3  4  5  6  7  8  9 10 11 12 13 14 15 16 17 18 19 20 21 22 23\n",
            " 24 25 26 27 28 29 30 31 32 33 34 35 36 37 38 39 40 41 42 43 44 45 46 47\n",
            " 48 49]\n",
            "code is running on  cuda:0\n",
            "epoch = 49 lr =  0.001\n",
            "train_acc=\t 0.9466666666666667 \t test_acc=\t 0.734065934065934 \t loss=\t 1.4304773807525635\n",
            "log saved at:\n",
            "./Example_Results_of_OS_CNN/OS_CNN_result_iter_0/FiftyWords/FiftyWords_.txt\n",
            "epoch = 99 lr =  0.001\n",
            "train_acc=\t 0.9955555555555555 \t test_acc=\t 0.8087912087912088 \t loss=\t 0.11788107454776764\n",
            "log saved at:\n",
            "./Example_Results_of_OS_CNN/OS_CNN_result_iter_0/FiftyWords/FiftyWords_.txt\n",
            "epoch = 149 lr =  0.001\n",
            "train_acc=\t 0.9977777777777778 \t test_acc=\t 0.8153846153846154 \t loss=\t 0.033516962081193924\n",
            "log saved at:\n",
            "./Example_Results_of_OS_CNN/OS_CNN_result_iter_0/FiftyWords/FiftyWords_.txt\n",
            "epoch = 199 lr =  0.001\n",
            "train_acc=\t 1.0 \t test_acc=\t 0.8021978021978022 \t loss=\t 0.06620102375745773\n",
            "log saved at:\n",
            "./Example_Results_of_OS_CNN/OS_CNN_result_iter_0/FiftyWords/FiftyWords_.txt\n",
            "epoch = 249 lr =  0.0005\n",
            "train_acc=\t 1.0 \t test_acc=\t 0.8043956043956044 \t loss=\t 0.10497438162565231\n",
            "log saved at:\n",
            "./Example_Results_of_OS_CNN/OS_CNN_result_iter_0/FiftyWords/FiftyWords_.txt\n",
            "epoch = 299 lr =  0.0005\n",
            "train_acc=\t 1.0 \t test_acc=\t 0.8175824175824176 \t loss=\t 3.4676265716552734\n",
            "log saved at:\n",
            "./Example_Results_of_OS_CNN/OS_CNN_result_iter_0/FiftyWords/FiftyWords_.txt\n",
            "epoch = 349 lr =  0.00025\n",
            "train_acc=\t 1.0 \t test_acc=\t 0.8043956043956044 \t loss=\t 1.3754510879516602\n",
            "log saved at:\n",
            "./Example_Results_of_OS_CNN/OS_CNN_result_iter_0/FiftyWords/FiftyWords_.txt\n",
            "epoch = 399 lr =  0.000125\n",
            "train_acc=\t 1.0 \t test_acc=\t 0.8307692307692308 \t loss=\t 0.0376686155796051\n",
            "log saved at:\n",
            "./Example_Results_of_OS_CNN/OS_CNN_result_iter_0/FiftyWords/FiftyWords_.txt\n",
            "epoch = 449 lr =  0.0001\n",
            "train_acc=\t 1.0 \t test_acc=\t 0.8241758241758241 \t loss=\t 0.45245158672332764\n",
            "log saved at:\n",
            "./Example_Results_of_OS_CNN/OS_CNN_result_iter_0/FiftyWords/FiftyWords_.txt\n",
            "epoch = 499 lr =  0.0001\n",
            "train_acc=\t 1.0 \t test_acc=\t 0.8307692307692308 \t loss=\t 0.7835376858711243\n",
            "log saved at:\n",
            "./Example_Results_of_OS_CNN/OS_CNN_result_iter_0/FiftyWords/FiftyWords_.txt\n",
            "correct: [ 3 11 12 22  3 12 26  0 21  0  6  8 42 12  7  2  1  5 23  8  5  0 14  2\n",
            "  7 10 15  9  1  1  4  1  2  3  0  0  5  2  0  1 32  0  5  8  3 41 29 13\n",
            " 28 47 39 40  7 13 44 11 15  0  7  6 33  0  0  2 28 25 30  1  5  0  0  4\n",
            " 41  0  4 21 23  0 27 16  2 30  3  0  4  3  4  0 29  2  0 18  0  1  9  9\n",
            "  1 16 33  0  2  4  4  4  1 24  7 40 38  1 23 17  8  5  0  9 18  1  3  4\n",
            " 20  2  2  4  1  0  1  1  5  1 23 14  2 48  8 21 14 10 23 16  5  3  0  0\n",
            " 20  1 36 11  3 40 17 34  1  0  2  5  1  9  1 30  4  4 15 44  2  1  8 45\n",
            "  6  0  4 15  0 40 13  6  5 10 21  2 25  6  5 37  1  3 10  9  8  6 48 16\n",
            " 48 27  3  1 24 22  5  2  6  0 19  0 49  3  1  2  3 13 28 41  0 10 37 39\n",
            " 15 45 15  2 12 19 11 31 10 16 31  2  7  0 37  5 39  5  9 34  5  1 48  1\n",
            "  0  6  2  1  0  1 22 19  3  3  2 17 28 32  2 27 14  7  1  8 13  9  2 10\n",
            "  4  5  6  4  8 38 24  8 41 10  7 26 44 47 46 38  2 45 36  6  1  1 30 13\n",
            " 46 32 12  3 40 24 11  3 35 11  1  7  0 18  0  1  1 26  3  3  2 19 25  0\n",
            " 28 22 21  0  1 43  4  3  0 10  0  4  0  0 16  2  4 26  0  6  8 38  0  5\n",
            "  3 30 24 49 15 11 30  1  0  1  3  8 41 33  0  9 14  3 13 24 16 12 40 14\n",
            "  0 11  3  4  3  5  3 11  3  9  0  0  0 10  1 10 18  4 26  7  7  4  3  2\n",
            "  3 12  0 21 17  6  0 26  3 23 20 13  9  0 13 14 24 19  4 49  2 20 42  4\n",
            "  2  5  0  7  3  4 19 36 33 37 14 17 25  4  0  1  3  0  1  6  6 35 39  6\n",
            " 49 46  0 13  9 29  1  8  0  1 33  3  6 20  0  7 42  1 10  3 24 14 15]\n",
            "predict: [ 3. 11. 13. 22.  3. 12. 26.  0. 21.  0. 19.  8. 42. 12.  7.  1.  1.  5.\n",
            " 23.  8.  5.  0. 14.  2.  7.  3.  0.  9.  1.  1.  4.  1.  2. 47.  0.  0.\n",
            "  5.  2.  0.  1.  3.  0.  5.  8.  3. 41. 29. 13. 28. 15.  1. 16.  7. 13.\n",
            " 13. 11. 15.  0.  7.  2. 17.  0.  0.  2. 28. 25. 30.  1.  5.  0.  0.  4.\n",
            " 41.  0.  4. 21.  5.  0. 27. 16.  2. 21.  3.  0.  4.  3.  4.  0. 29.  2.\n",
            "  0. 18.  0.  4.  9. 21.  1.  3. 33.  0.  2.  4.  4.  4.  1. 29.  7.  2.\n",
            " 38.  1. 23. 17.  8. 15.  0.  0. 18.  1.  3.  4. 20.  2.  2.  4.  1.  0.\n",
            "  1.  1.  5.  1. 23. 14.  2. 18.  1.  5. 14. 10.  2. 16.  5.  3.  0.  0.\n",
            " 20.  1. 36. 11.  3. 36. 17.  7.  1.  0.  2.  5.  1.  9.  1. 30.  4.  4.\n",
            " 15. 44.  2.  1.  8. 45.  6. 32.  4. 15.  0. 39. 13.  6.  5. 36. 21.  2.\n",
            " 25.  6.  5. 37.  1.  3. 10.  9.  8.  6. 48. 11.  7. 27.  3.  1. 24. 22.\n",
            "  5.  2.  6.  0. 34.  0. 16. 47.  1.  2.  3. 13. 28. 17.  0. 10. 37. 19.\n",
            "  2. 45. 15.  2. 45. 19. 11. 31. 10. 11. 31.  2.  7.  0. 37.  5. 39.  5.\n",
            "  9. 37.  5.  1. 48.  1.  0.  6.  2.  1.  0.  1. 22. 19.  3.  3.  2. 17.\n",
            " 39. 32.  2.  5. 14.  7.  1.  8. 12.  9.  2. 10.  4.  5.  6.  4.  8. 38.\n",
            " 24.  8. 27.  3.  7. 26. 44. 10. 46. 38.  2. 45. 36.  6.  1.  1. 12. 13.\n",
            " 46. 32. 12.  3. 43. 24. 11.  3. 35. 11.  1.  7.  0. 18.  0.  1.  1. 26.\n",
            "  3. 10.  2. 19. 25.  0. 28. 22. 21.  0.  1.  5.  4.  3.  0. 10.  0.  4.\n",
            "  0.  0. 16.  2.  4. 26.  0.  6.  8. 39.  0.  5. 47. 17. 24.  1. 15. 11.\n",
            " 21.  1.  0.  1.  3.  8. 27. 33.  0.  9. 14. 39. 12. 17.  4. 12.  7. 14.\n",
            "  0. 11. 14.  4.  3.  5.  3. 11.  3.  9.  0.  0.  0. 10. 47.  3. 18.  4.\n",
            " 26.  7.  7.  4.  3.  2.  3. 12.  0.  1.  2.  6.  0. 26.  3. 23. 20. 12.\n",
            " 47.  0. 13. 14. 29. 19.  4. 39.  2. 20. 42.  4.  2.  5.  0.  7.  3.  4.\n",
            " 19. 36. 33. 37. 14. 17. 25.  4.  0.  1.  3.  0.  1.  6.  6. 35. 39.  6.\n",
            " 39. 46.  0. 13.  9. 28.  1.  8.  0.  1. 17.  3.  6. 20.  0. 15. 42.  1.\n",
            "  3.  3. 24. 14. 15.]\n",
            "0.8307692307692308\n"
          ]
        }
      ],
      "source": [
        "for dataset_name in dataset_name_list:\n",
        "    print('running at:', dataset_name)   \n",
        "\n",
        "    # load data,\n",
        "    X_train, y_train, X_test, y_test = TSC_data_loader(dataset_path, dataset_name)\n",
        "    print('train data shape', X_train.shape)\n",
        "    print('train label shape',y_train.shape)\n",
        "    print('test data shape',X_test.shape)\n",
        "    print('test label shape',y_test.shape)\n",
        "    print('unique train label',np.unique(y_train))\n",
        "    print('unique test label',np.unique(y_test))\n",
        "\n",
        "    # creat model and log save place,\n",
        "\n",
        "    model = OS_CNN_easy_use(\n",
        "        Result_log_folder = Result_log_folder, # the Result_log_folder,\n",
        "        dataset_name = dataset_name,           # dataset_name for creat log under Result_log_folder,\n",
        "        device = \"cuda:0\",                # Gpu \n",
        "        max_epoch = 500,                        # In our expirement the number is 2000 for keep it same with FCN for the example dataset 500 will be enough,\n",
        "        paramenter_number_of_layer_list = [8*128, 5*128*256 + 2*256*128],\n",
        "        )\n",
        "\n",
        "    model.fit(X_train, y_train, X_test, y_test)\n",
        "\n",
        "    y_predict = model.predict(X_test)\n",
        "\n",
        "    print('correct:',y_test)\n",
        "    print('predict:',y_predict)\n",
        "    acc = accuracy_score(y_predict, y_test)\n",
        "    print(acc)"
      ]
    },
    {
      "cell_type": "code",
      "execution_count": 5,
      "metadata": {
        "id": "K9jus1sL0rMt"
      },
      "outputs": [],
      "source": [
        ""
      ]
    }
  ],
  "metadata": {
    "kernelspec": {
      "display_name": "Python 3",
      "language": "python",
      "name": "python3"
    },
    "language_info": {
      "codemirror_mode": {
        "name": "ipython",
        "version": 3
      },
      "file_extension": ".py",
      "mimetype": "text/x-python",
      "name": "python",
      "nbconvert_exporter": "python",
      "pygments_lexer": "ipython3",
      "version": "3.5.4"
    },
    "colab": {
      "name": "1_1_OS-CNN_easy_use_Run_and_Save_Model.ipynb",
      "provenance": [],
      "collapsed_sections": []
    },
    "accelerator": "GPU"
  },
  "nbformat": 4,
  "nbformat_minor": 0
}