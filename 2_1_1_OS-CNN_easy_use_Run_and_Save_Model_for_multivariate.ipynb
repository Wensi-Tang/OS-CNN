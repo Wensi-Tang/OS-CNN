{
  "cells": [
    {
      "cell_type": "code",
      "source": [
        "# get code from github\n",
        "!git clone https://github.com/Wensi-Tang/OS-CNN.git\n",
        "#change path to OS-CNN\n",
        "%cd /content/OS-CNN"
      ],
      "metadata": {
        "colab": {
          "base_uri": "https://localhost:8080/"
        },
        "id": "qOv0BY5Y1x41",
        "outputId": "4ef0af74-ca6c-4cec-8a0d-647af7dce383"
      },
      "execution_count": 1,
      "outputs": [
        {
          "output_type": "stream",
          "name": "stdout",
          "text": [
            "Cloning into 'OS-CNN'...\n",
            "remote: Enumerating objects: 557, done.\u001b[K\n",
            "remote: Counting objects: 100% (7/7), done.\u001b[K\n",
            "remote: Compressing objects: 100% (7/7), done.\u001b[K\n",
            "remote: Total 557 (delta 1), reused 4 (delta 0), pack-reused 550\u001b[K\n",
            "Receiving objects: 100% (557/557), 49.18 MiB | 33.87 MiB/s, done.\n",
            "Resolving deltas: 100% (166/166), done.\n",
            "/content/OS-CNN\n"
          ]
        }
      ]
    },
    {
      "cell_type": "code",
      "execution_count": 2,
      "metadata": {
        "id": "EsjlSbBr1vrP"
      },
      "outputs": [],
      "source": [
        "from os.path import dirname\n",
        "from utils.dataloader.TSC_data_loader import TSC_multivariate_data_loader, TSC_multivariate_data_loader_from_mat\n",
        "from Classifiers.OS_CNN.OS_CNN_easy_use import OS_CNN_easy_use\n",
        "from sklearn.metrics import accuracy_score\n",
        "import numpy as np\n",
        "import pandas as pd\n",
        "import torch"
      ]
    },
    {
      "cell_type": "code",
      "execution_count": 3,
      "metadata": {
        "colab": {
          "base_uri": "https://localhost:8080/"
        },
        "id": "eSuRknZp1vrT",
        "outputId": "92ecd620-b1d9-45a5-800b-ec88c3e135c4"
      },
      "outputs": [
        {
          "output_type": "stream",
          "name": "stdout",
          "text": [
            "Are we using GPU?:  True\n",
            "the GPU name is:  Tesla P100-PCIE-16GB\n"
          ]
        }
      ],
      "source": [
        "cuda_available = torch.cuda.is_available()\n",
        "print(\"Are we using GPU?: \", cuda_available)\n",
        "if(cuda_available):\n",
        "    print(\"the GPU name is: \",torch.cuda.get_device_name(0))"
      ]
    },
    {
      "cell_type": "code",
      "execution_count": 4,
      "metadata": {
        "id": "_kX-bZA71vrW"
      },
      "outputs": [],
      "source": [
        "Result_log_folder = './Results_of_OS_CNN_for_multivariate/OS_CNN_result_iter_0/'\n",
        "dataset_path = dirname(\"./Example_Datasets/UEAArchive_2018/\")\n",
        "dataset_name_list = [\n",
        "  \"UWaveGestureLibrary\",\n",
        "]"
      ]
    },
    {
      "cell_type": "code",
      "execution_count": 5,
      "metadata": {
        "scrolled": false,
        "colab": {
          "base_uri": "https://localhost:8080/"
        },
        "id": "f50d7Scy1vrX",
        "outputId": "2d05b6d3-8ca0-49b2-b5af-12745f11d4ae"
      },
      "outputs": [
        {
          "output_type": "stream",
          "name": "stdout",
          "text": [
            "running at: UWaveGestureLibrary\n",
            "train data shape (120, 3, 315)\n",
            "train label shape (120,)\n",
            "test data shape (320, 3, 315)\n",
            "test label shape (320,)\n",
            "unique train label [0 1 2 3 4 5 6 7]\n",
            "unique test label [0 1 2 3 4 5 6 7]\n",
            "code is running on  cuda:0\n",
            "epoch = 49 lr =  0.001\n",
            "train_acc=\t 1.0 \t test_acc=\t 0.925 \t loss=\t 0.036587681621313095\n",
            "log saved at:\n",
            "./Results_of_OS_CNN_for_multivariate/OS_CNN_result_iter_0/UWaveGestureLibrary/UWaveGestureLibrary_.txt\n",
            "epoch = 99 lr =  0.001\n",
            "train_acc=\t 1.0 \t test_acc=\t 0.91875 \t loss=\t 0.004924929700791836\n",
            "log saved at:\n",
            "./Results_of_OS_CNN_for_multivariate/OS_CNN_result_iter_0/UWaveGestureLibrary/UWaveGestureLibrary_.txt\n",
            "epoch = 149 lr =  0.001\n",
            "train_acc=\t 1.0 \t test_acc=\t 0.921875 \t loss=\t 0.005408634897321463\n",
            "log saved at:\n",
            "./Results_of_OS_CNN_for_multivariate/OS_CNN_result_iter_0/UWaveGestureLibrary/UWaveGestureLibrary_.txt\n",
            "epoch = 199 lr =  0.001\n",
            "train_acc=\t 1.0 \t test_acc=\t 0.921875 \t loss=\t 0.0018960052402690053\n",
            "log saved at:\n",
            "./Results_of_OS_CNN_for_multivariate/OS_CNN_result_iter_0/UWaveGestureLibrary/UWaveGestureLibrary_.txt\n",
            "epoch = 249 lr =  0.001\n",
            "train_acc=\t 1.0 \t test_acc=\t 0.921875 \t loss=\t 0.00031395762925967574\n",
            "log saved at:\n",
            "./Results_of_OS_CNN_for_multivariate/OS_CNN_result_iter_0/UWaveGestureLibrary/UWaveGestureLibrary_.txt\n",
            "epoch = 299 lr =  0.001\n",
            "train_acc=\t 1.0 \t test_acc=\t 0.91875 \t loss=\t 0.001075429143384099\n",
            "log saved at:\n",
            "./Results_of_OS_CNN_for_multivariate/OS_CNN_result_iter_0/UWaveGestureLibrary/UWaveGestureLibrary_.txt\n",
            "epoch = 349 lr =  0.001\n",
            "train_acc=\t 1.0 \t test_acc=\t 0.915625 \t loss=\t 0.00026142894057556987\n",
            "log saved at:\n",
            "./Results_of_OS_CNN_for_multivariate/OS_CNN_result_iter_0/UWaveGestureLibrary/UWaveGestureLibrary_.txt\n",
            "epoch = 399 lr =  0.001\n",
            "train_acc=\t 1.0 \t test_acc=\t 0.921875 \t loss=\t 8.811056613922119e-05\n",
            "log saved at:\n",
            "./Results_of_OS_CNN_for_multivariate/OS_CNN_result_iter_0/UWaveGestureLibrary/UWaveGestureLibrary_.txt\n",
            "epoch = 449 lr =  0.001\n",
            "train_acc=\t 1.0 \t test_acc=\t 0.921875 \t loss=\t 9.838629193836823e-05\n",
            "log saved at:\n",
            "./Results_of_OS_CNN_for_multivariate/OS_CNN_result_iter_0/UWaveGestureLibrary/UWaveGestureLibrary_.txt\n",
            "epoch = 499 lr =  0.0005\n",
            "train_acc=\t 1.0 \t test_acc=\t 0.925 \t loss=\t 0.004668662790209055\n",
            "log saved at:\n",
            "./Results_of_OS_CNN_for_multivariate/OS_CNN_result_iter_0/UWaveGestureLibrary/UWaveGestureLibrary_.txt\n",
            "correct: [0 0 0 0 0 0 0 0 0 0 0 0 0 0 0 0 0 0 0 0 0 0 0 0 0 0 0 0 0 0 0 0 0 0 0 0 0\n",
            " 0 0 0 1 1 1 1 1 1 1 1 1 1 1 1 1 1 1 1 1 1 1 1 1 1 1 1 1 1 1 1 1 1 1 1 1 1\n",
            " 1 1 1 1 1 1 2 2 2 2 2 2 2 2 2 2 2 2 2 2 2 2 2 2 2 2 2 2 2 2 2 2 2 2 2 2 2\n",
            " 2 2 2 2 2 2 2 2 2 3 3 3 3 3 3 3 3 3 3 3 3 3 3 3 3 3 3 3 3 3 3 3 3 3 3 3 3\n",
            " 3 3 3 3 3 3 3 3 3 3 3 3 4 4 4 4 4 4 4 4 4 4 4 4 4 4 4 4 4 4 4 4 4 4 4 4 4\n",
            " 4 4 4 4 4 4 4 4 4 4 4 4 4 4 4 5 5 5 5 5 5 5 5 5 5 5 5 5 5 5 5 5 5 5 5 5 5\n",
            " 5 5 5 5 5 5 5 5 5 5 5 5 5 5 5 5 5 5 6 6 6 6 6 6 6 6 6 6 6 6 6 6 6 6 6 6 6\n",
            " 6 6 6 6 6 6 6 6 6 6 6 6 6 6 6 6 6 6 6 6 6 7 7 7 7 7 7 7 7 7 7 7 7 7 7 7 7\n",
            " 7 7 7 7 7 7 7 7 7 7 7 7 7 7 7 7 7 7 7 7 7 7 7 7]\n",
            "predict: [0. 0. 5. 0. 0. 5. 0. 0. 0. 0. 0. 0. 0. 0. 0. 0. 0. 0. 0. 5. 0. 0. 0. 0.\n",
            " 0. 0. 0. 0. 0. 0. 0. 0. 0. 0. 0. 0. 0. 0. 0. 0. 1. 1. 1. 1. 1. 1. 1. 1.\n",
            " 1. 1. 1. 1. 1. 1. 1. 1. 1. 1. 1. 1. 1. 1. 1. 1. 1. 1. 1. 1. 1. 1. 1. 1.\n",
            " 1. 1. 1. 1. 1. 1. 1. 1. 2. 2. 2. 2. 0. 2. 2. 2. 2. 2. 4. 2. 2. 2. 2. 2.\n",
            " 2. 2. 0. 2. 2. 2. 2. 2. 2. 2. 2. 2. 2. 2. 2. 2. 2. 2. 2. 2. 2. 2. 2. 2.\n",
            " 3. 3. 4. 3. 3. 3. 3. 4. 3. 3. 3. 4. 3. 3. 3. 3. 4. 4. 4. 3. 3. 3. 2. 3.\n",
            " 3. 4. 3. 3. 0. 7. 3. 7. 3. 4. 3. 3. 3. 3. 3. 3. 4. 4. 4. 4. 4. 3. 4. 4.\n",
            " 0. 4. 4. 4. 4. 4. 4. 4. 4. 4. 4. 2. 4. 4. 4. 4. 4. 4. 4. 4. 4. 4. 4. 4.\n",
            " 4. 4. 4. 4. 4. 4. 4. 4. 2. 5. 5. 5. 5. 5. 5. 5. 5. 5. 5. 5. 5. 5. 5. 5.\n",
            " 5. 5. 5. 3. 5. 5. 5. 5. 5. 5. 5. 5. 5. 5. 5. 3. 5. 5. 5. 5. 5. 5. 5. 5.\n",
            " 6. 6. 6. 6. 6. 6. 6. 6. 6. 6. 6. 6. 6. 6. 6. 6. 6. 6. 6. 6. 6. 6. 6. 6.\n",
            " 6. 6. 6. 6. 6. 6. 6. 6. 6. 6. 6. 6. 6. 6. 6. 6. 7. 7. 7. 7. 7. 7. 7. 7.\n",
            " 7. 7. 7. 7. 7. 7. 7. 7. 7. 7. 7. 7. 7. 7. 7. 7. 7. 7. 7. 7. 7. 7. 7. 7.\n",
            " 7. 7. 7. 7. 7. 7. 7. 7.]\n",
            "0.925\n"
          ]
        }
      ],
      "source": [
        "for dataset_name in dataset_name_list:\n",
        "    print('running at:', dataset_name)   \n",
        "    \n",
        "    # load multivariate data\n",
        "    X_train, y_train, X_test, y_test = TSC_multivariate_data_loader(dataset_path, dataset_name)\n",
        "    print('train data shape', X_train.shape)\n",
        "    print('train label shape',y_train.shape)\n",
        "    print('test data shape',X_test.shape)\n",
        "    print('test label shape',y_test.shape)\n",
        "    print('unique train label',np.unique(y_train))\n",
        "    print('unique test label',np.unique(y_test))\n",
        "\n",
        "    # creat model and log save place\n",
        "\n",
        "    model = OS_CNN_easy_use(\n",
        "        Result_log_folder = Result_log_folder, # the Result_log_folder\n",
        "        dataset_name = dataset_name,           # dataset_name for creat log under Result_log_folder\n",
        "        device = \"cuda:0\",                     # Gpu \n",
        "        max_epoch = 500,                        # In our expirement the number is 2000 for keep it same with FCN for the example dataset 500 will be enough\n",
        "        paramenter_number_of_layer_list = [8*128*X_train.shape[1], 5*128*256 + 2*256*128]\n",
        "        )\n",
        "    \n",
        "    model.fit(X_train, y_train, X_test, y_test)\n",
        "    \n",
        "    y_predict = model.predict(X_test)\n",
        "    \n",
        "    print('correct:',y_test)\n",
        "    print('predict:',y_predict)\n",
        "    acc = accuracy_score(y_predict, y_test)\n",
        "    print(acc)\n",
        "    "
      ]
    },
    {
      "cell_type": "code",
      "execution_count": 6,
      "metadata": {
        "id": "00ycCfx01vrZ"
      },
      "outputs": [],
      "source": [
        "Result_log_folder = './Results_of_OS_CNN_for_multivariate/OS_CNN_result_iter_0/'\n",
        "dataset_path = dirname(\"./Example_Datasets/MTS_Archive/\")\n",
        "\n",
        "dataset_name_list = [\n",
        "\"UWave\",\n",
        "]"
      ]
    },
    {
      "cell_type": "code",
      "execution_count": 7,
      "metadata": {
        "colab": {
          "base_uri": "https://localhost:8080/"
        },
        "id": "BI8iX4-21vrb",
        "outputId": "88249b5d-7703-4521-956e-f8555169da35"
      },
      "outputs": [
        {
          "output_type": "stream",
          "name": "stdout",
          "text": [
            "running at: UWave\n",
            "train data shape (200, 3, 315)\n",
            "train label shape (200,)\n",
            "test data shape (4278, 3, 315)\n",
            "test label shape (4278,)\n",
            "unique train label [0 1 2 3 4 5 6 7]\n",
            "unique test label [0 1 2 3 4 5 6 7]\n",
            "code is running on  cuda:0\n",
            "epoch = 49 lr =  0.001\n",
            "train_acc=\t 1.0 \t test_acc=\t 0.9555867227676484 \t loss=\t 0.05289953574538231\n",
            "log saved at:\n",
            "./Results_of_OS_CNN_for_multivariate/OS_CNN_result_iter_0/UWave/UWave_.txt\n",
            "epoch = 99 lr =  0.001\n",
            "train_acc=\t 1.0 \t test_acc=\t 0.9523141654978962 \t loss=\t 0.02546306885778904\n",
            "log saved at:\n",
            "./Results_of_OS_CNN_for_multivariate/OS_CNN_result_iter_0/UWave/UWave_.txt\n",
            "epoch = 149 lr =  0.001\n",
            "train_acc=\t 1.0 \t test_acc=\t 0.9530154277699859 \t loss=\t 0.0020862321835011244\n",
            "log saved at:\n",
            "./Results_of_OS_CNN_for_multivariate/OS_CNN_result_iter_0/UWave/UWave_.txt\n",
            "epoch = 199 lr =  0.001\n",
            "train_acc=\t 1.0 \t test_acc=\t 0.9530154277699859 \t loss=\t 0.00739692896604538\n",
            "log saved at:\n",
            "./Results_of_OS_CNN_for_multivariate/OS_CNN_result_iter_0/UWave/UWave_.txt\n",
            "epoch = 249 lr =  0.0005\n",
            "train_acc=\t 1.0 \t test_acc=\t 0.9474053295932678 \t loss=\t 0.0033424280118197203\n",
            "log saved at:\n",
            "./Results_of_OS_CNN_for_multivariate/OS_CNN_result_iter_0/UWave/UWave_.txt\n",
            "epoch = 299 lr =  0.00025\n",
            "train_acc=\t 1.0 \t test_acc=\t 0.9534829359513791 \t loss=\t 0.0007248581969179213\n",
            "log saved at:\n",
            "./Results_of_OS_CNN_for_multivariate/OS_CNN_result_iter_0/UWave/UWave_.txt\n",
            "epoch = 349 lr =  0.000125\n",
            "train_acc=\t 1.0 \t test_acc=\t 0.9518466573165031 \t loss=\t 0.0008267734665423632\n",
            "log saved at:\n",
            "./Results_of_OS_CNN_for_multivariate/OS_CNN_result_iter_0/UWave/UWave_.txt\n",
            "epoch = 399 lr =  0.0001\n",
            "train_acc=\t 1.0 \t test_acc=\t 0.9530154277699859 \t loss=\t 0.005257872864603996\n",
            "log saved at:\n",
            "./Results_of_OS_CNN_for_multivariate/OS_CNN_result_iter_0/UWave/UWave_.txt\n",
            "epoch = 449 lr =  0.0001\n",
            "train_acc=\t 1.0 \t test_acc=\t 0.9534829359513791 \t loss=\t 0.0013017520541325212\n",
            "log saved at:\n",
            "./Results_of_OS_CNN_for_multivariate/OS_CNN_result_iter_0/UWave/UWave_.txt\n",
            "epoch = 499 lr =  0.0001\n",
            "train_acc=\t 1.0 \t test_acc=\t 0.9523141654978962 \t loss=\t 0.0012112654512748122\n",
            "log saved at:\n",
            "./Results_of_OS_CNN_for_multivariate/OS_CNN_result_iter_0/UWave/UWave_.txt\n",
            "correct: [4 2 6 ... 2 7 3]\n",
            "predict: [4. 6. 6. ... 5. 7. 4.]\n",
            "0.9523141654978962\n"
          ]
        }
      ],
      "source": [
        "for dataset_name in dataset_name_list:\n",
        "    print('running at:', dataset_name)   \n",
        "    \n",
        "    \n",
        "    # load multivariate data\n",
        "    X_train, y_train, X_test, y_test = TSC_multivariate_data_loader_from_mat(dataset_path, dataset_name)\n",
        "    print('train data shape', X_train.shape)\n",
        "    print('train label shape',y_train.shape)\n",
        "    print('test data shape',X_test.shape)\n",
        "    print('test label shape',y_test.shape)\n",
        "    print('unique train label',np.unique(y_train))\n",
        "    print('unique test label',np.unique(y_test))\n",
        "    \n",
        "    \n",
        "    # creat model and log save place\n",
        "    \n",
        "    model = OS_CNN_easy_use(\n",
        "        Result_log_folder = Result_log_folder, # the Result_log_folder\n",
        "        dataset_name = dataset_name,           # dataset_name for creat log under Result_log_folder\n",
        "        device = \"cuda:0\",                     # Gpu \n",
        "        max_epoch = 500,                        # In our expirement the number is 2000 for keep it same with FCN for the example dataset 500 will be enough\n",
        "        paramenter_number_of_layer_list = [8*128*X_train.shape[1], 5*128*256 + 2*256*128]\n",
        "        )\n",
        "    \n",
        "    \n",
        "    model.fit(X_train, y_train, X_test, y_test)\n",
        "    \n",
        "    \n",
        "    \n",
        "    y_predict = model.predict(X_test)\n",
        "    \n",
        "    \n",
        "    print('correct:',y_test)\n",
        "    print('predict:',y_predict)\n",
        "    acc = accuracy_score(y_predict, y_test)\n",
        "    print(acc)"
      ]
    }
  ],
  "metadata": {
    "kernelspec": {
      "display_name": "Python 3",
      "language": "python",
      "name": "python3"
    },
    "language_info": {
      "codemirror_mode": {
        "name": "ipython",
        "version": 3
      },
      "file_extension": ".py",
      "mimetype": "text/x-python",
      "name": "python",
      "nbconvert_exporter": "python",
      "pygments_lexer": "ipython3",
      "version": "3.6.8"
    },
    "colab": {
      "name": "2_1_1_OS-CNN_easy_use_Run_and_Save_Model_for_multivariate.ipynb",
      "provenance": []
    },
    "accelerator": "GPU"
  },
  "nbformat": 4,
  "nbformat_minor": 0
}