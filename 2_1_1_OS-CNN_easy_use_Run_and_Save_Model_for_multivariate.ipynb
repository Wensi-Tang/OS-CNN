{
 "cells": [
  {
   "cell_type": "code",
   "execution_count": null,
   "metadata": {},
   "outputs": [],
   "source": [
    "from os.path import dirname\n",
    "from utils.dataloader.TSC_data_loader import TSC_multivariate_data_loader, TSC_multivariate_data_loader_from_mat\n",
    "from Classifiers.OS_CNN.OS_CNN_easy_use import OS_CNN_easy_use\n",
    "from sklearn.metrics import accuracy_score\n",
    "import numpy as np\n",
    "import pandas as pd\n",
    "import torch"
   ]
  },
  {
   "cell_type": "code",
   "execution_count": null,
   "metadata": {},
   "outputs": [],
   "source": [
    "cuda_available = torch.cuda.is_available()\n",
    "print(\"Are we using GPU?: \", cuda_available)\n",
    "if(cuda_available):\n",
    "    print(\"the GPU name is: \",torch.cuda.get_device_name(0))"
   ]
  },
  {
   "cell_type": "code",
   "execution_count": null,
   "metadata": {},
   "outputs": [],
   "source": [
    "# get code from github\n",
    "!git clone https://github.com/Wensi-Tang/OS-CNN.git\n",
    "#change path to OS-CNN\n",
    "%cd /content/OS-CNN"
   ]
  },
  {
   "cell_type": "code",
   "execution_count": null,
   "metadata": {},
   "outputs": [],
   "source": [
    "Result_log_folder = './Example_Results_of_OS_CNN_for_multivariate/OS_CNN_result_iter_0/'\n",
    "dataset_path = dirname(\"./Example_Datasets/UEAArchive_2018/\")\n",
    "dataset_name_list = [\n",
    "  \"UWaveGestureLibrary\",\n",
    "]"
   ]
  },
  {
   "cell_type": "code",
   "execution_count": null,
   "metadata": {
    "scrolled": false
   },
   "outputs": [],
   "source": [
    "for dataset_name in dataset_name_list:\n",
    "    print('running at:', dataset_name)   \n",
    "    \n",
    "    # load multivariate data\n",
    "    X_train, y_train, X_test, y_test = TSC_multivariate_data_loader(dataset_path, dataset_name)\n",
    "    print('train data shape', X_train.shape)\n",
    "    print('train label shape',y_train.shape)\n",
    "    print('test data shape',X_test.shape)\n",
    "    print('test label shape',y_test.shape)\n",
    "    print('unique train label',np.unique(y_train))\n",
    "    print('unique test label',np.unique(y_test))\n",
    "\n",
    "    # creat model and log save place\n",
    "\n",
    "    model = OS_CNN_easy_use(\n",
    "        Result_log_folder = Result_log_folder, # the Result_log_folder\n",
    "        dataset_name = dataset_name,           # dataset_name for creat log under Result_log_folder\n",
    "        device = \"cuda:0\",                     # Gpu \n",
    "        max_epoch = 500,                        # In our expirement the number is 2000 for keep it same with FCN for the example dataset 500 will be enough\n",
    "        paramenter_number_of_layer_list = [8*128*X_train.shape[1], 5*128*256 + 2*256*128]\n",
    "        )\n",
    "    \n",
    "    model.fit(X_train, y_train, X_test, y_test)\n",
    "    \n",
    "    y_predict = model.predict(X_test)\n",
    "    \n",
    "    print('correct:',y_test)\n",
    "    print('predict:',y_predict)\n",
    "    acc = accuracy_score(y_predict, y_test)\n",
    "    print(acc)\n",
    "    "
   ]
  },
  {
   "cell_type": "code",
   "execution_count": null,
   "metadata": {},
   "outputs": [],
   "source": [
    "Result_log_folder = './Example_Results_of_OS_CNN_for_multivariate/OS_CNN_result_iter_0/'\n",
    "dataset_path = dirname(\"./Example_Datasets/MTS_Archive/\")\n",
    "\n",
    "dataset_name_list = [\n",
    "\"UWave\",\n",
    "]"
   ]
  },
  {
   "cell_type": "code",
   "execution_count": null,
   "metadata": {},
   "outputs": [],
   "source": [
    "for dataset_name in dataset_name_list:\n",
    "    print('running at:', dataset_name)   \n",
    "    \n",
    "    \n",
    "    # load multivariate data\n",
    "    X_train, y_train, X_test, y_test = TSC_multivariate_data_loader_from_mat(dataset_path, dataset_name)\n",
    "    print('train data shape', X_train.shape)\n",
    "    print('train label shape',y_train.shape)\n",
    "    print('test data shape',X_test.shape)\n",
    "    print('test label shape',y_test.shape)\n",
    "    print('unique train label',np.unique(y_train))\n",
    "    print('unique test label',np.unique(y_test))\n",
    "    \n",
    "    \n",
    "    # creat model and log save place\n",
    "    \n",
    "    model = OS_CNN_easy_use(\n",
    "        Result_log_folder = Result_log_folder, # the Result_log_folder\n",
    "        dataset_name = dataset_name,           # dataset_name for creat log under Result_log_folder\n",
    "        device = \"cuda:0\",                     # Gpu \n",
    "        max_epoch = 500,                        # In our expirement the number is 2000 for keep it same with FCN for the example dataset 500 will be enough\n",
    "        paramenter_number_of_layer_list = [8*128*X_train.shape[1], 5*128*256 + 2*256*128]\n",
    "        )\n",
    "    \n",
    "    \n",
    "    model.fit(X_train, y_train, X_test, y_test)\n",
    "    \n",
    "    \n",
    "    \n",
    "    y_predict = model.predict(X_test)\n",
    "    \n",
    "    \n",
    "    print('correct:',y_test)\n",
    "    print('predict:',y_predict)\n",
    "    acc = accuracy_score(y_predict, y_test)\n",
    "    print(acc)"
   ]
  }
 ],
 "metadata": {
  "kernelspec": {
   "display_name": "Python 3",
   "language": "python",
   "name": "python3"
  },
  "language_info": {
   "codemirror_mode": {
    "name": "ipython",
    "version": 3
   },
   "file_extension": ".py",
   "mimetype": "text/x-python",
   "name": "python",
   "nbconvert_exporter": "python",
   "pygments_lexer": "ipython3",
   "version": "3.6.8"
  }
 },
 "nbformat": 4,
 "nbformat_minor": 2
}
