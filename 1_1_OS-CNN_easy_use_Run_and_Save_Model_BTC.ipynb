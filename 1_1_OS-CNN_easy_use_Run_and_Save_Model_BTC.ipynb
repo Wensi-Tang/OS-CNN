{
  "cells": [
    {
      "cell_type": "code",
      "execution_count": 81,
      "metadata": {
        "colab": {
          "base_uri": "https://localhost:8080/"
        },
        "id": "LU8012Z4gxC4",
        "outputId": "70473260-968a-4715-e61d-3c4107b4ed23"
      },
      "outputs": [
        {
          "output_type": "stream",
          "name": "stdout",
          "text": [
            "Cloning into 'OS-CNN'...\n",
            "remote: Enumerating objects: 557, done.\u001b[K\n",
            "remote: Counting objects: 100% (7/7), done.\u001b[K\n",
            "remote: Compressing objects: 100% (7/7), done.\u001b[K\n",
            "remote: Total 557 (delta 1), reused 4 (delta 0), pack-reused 550\u001b[K\n",
            "Receiving objects: 100% (557/557), 49.18 MiB | 13.74 MiB/s, done.\n",
            "Resolving deltas: 100% (166/166), done.\n",
            "/content/OS-CNN\n"
          ]
        }
      ],
      "source": [
        "# get code from github\n",
        "!git clone https://github.com/Wensi-Tang/OS-CNN.git\n",
        "#change path to OS-CNN\n",
        "%cd /content/OS-CNN"
      ]
    },
    {
      "cell_type": "code",
      "execution_count": 82,
      "metadata": {
        "id": "BPo80TCz0IGi"
      },
      "outputs": [],
      "source": [
        "import torch\n",
        "from os.path import dirname\n",
        "from utils.dataloader.TSC_data_loader import TSC_data_loader\n",
        "from Classifiers.OS_CNN.OS_CNN_easy_use import OS_CNN_easy_use\n",
        "from sklearn.metrics import accuracy_score\n",
        "import numpy as np\n",
        "import pandas as pd\n",
        "from tqdm import tqdm\n",
        "from sklearn import preprocessing"
      ]
    },
    {
      "cell_type": "code",
      "execution_count": 83,
      "metadata": {
        "colab": {
          "base_uri": "https://localhost:8080/"
        },
        "id": "RKf-TqtogxC9",
        "outputId": "d5526e9e-5592-435b-bf47-cfe4b1abb1c4"
      },
      "outputs": [
        {
          "output_type": "stream",
          "name": "stdout",
          "text": [
            "Are we using GPU?:  True\n",
            "the GPU name is:  Tesla P100-PCIE-16GB\n"
          ]
        }
      ],
      "source": [
        "cuda_available = torch.cuda.is_available()\n",
        "print(\"Are we using GPU?: \", cuda_available)\n",
        "if(cuda_available):\n",
        "    print(\"the GPU name is: \",torch.cuda.get_device_name(0))"
      ]
    },
    {
      "cell_type": "code",
      "execution_count": 85,
      "metadata": {
        "id": "FCHDWvGxyDGl",
        "colab": {
          "base_uri": "https://localhost:8080/",
          "height": 206
        },
        "outputId": "6a4d9324-6778-459d-fecd-5d310bdb53c7"
      },
      "outputs": [
        {
          "output_type": "execute_result",
          "data": {
            "text/plain": [
              "      open     high      low    close  volume  label\n",
              "0  36060.5  36060.5  35807.9  35815.6  10.423      0\n",
              "1  35815.5  35939.5  35717.3  35722.0   9.339      0\n",
              "2  35715.6  35849.5  35715.6  35723.4   3.884      1\n",
              "3  35735.1  35735.1  35720.0  35727.6   1.684      0\n",
              "4  35727.2  35850.0  35714.0  35831.6   3.474      1"
            ],
            "text/html": [
              "\n",
              "  <div id=\"df-1143bb08-1907-4fed-a5ea-5ed641e41649\">\n",
              "    <div class=\"colab-df-container\">\n",
              "      <div>\n",
              "<style scoped>\n",
              "    .dataframe tbody tr th:only-of-type {\n",
              "        vertical-align: middle;\n",
              "    }\n",
              "\n",
              "    .dataframe tbody tr th {\n",
              "        vertical-align: top;\n",
              "    }\n",
              "\n",
              "    .dataframe thead th {\n",
              "        text-align: right;\n",
              "    }\n",
              "</style>\n",
              "<table border=\"1\" class=\"dataframe\">\n",
              "  <thead>\n",
              "    <tr style=\"text-align: right;\">\n",
              "      <th></th>\n",
              "      <th>open</th>\n",
              "      <th>high</th>\n",
              "      <th>low</th>\n",
              "      <th>close</th>\n",
              "      <th>volume</th>\n",
              "      <th>label</th>\n",
              "    </tr>\n",
              "  </thead>\n",
              "  <tbody>\n",
              "    <tr>\n",
              "      <th>0</th>\n",
              "      <td>36060.5</td>\n",
              "      <td>36060.5</td>\n",
              "      <td>35807.9</td>\n",
              "      <td>35815.6</td>\n",
              "      <td>10.423</td>\n",
              "      <td>0</td>\n",
              "    </tr>\n",
              "    <tr>\n",
              "      <th>1</th>\n",
              "      <td>35815.5</td>\n",
              "      <td>35939.5</td>\n",
              "      <td>35717.3</td>\n",
              "      <td>35722.0</td>\n",
              "      <td>9.339</td>\n",
              "      <td>0</td>\n",
              "    </tr>\n",
              "    <tr>\n",
              "      <th>2</th>\n",
              "      <td>35715.6</td>\n",
              "      <td>35849.5</td>\n",
              "      <td>35715.6</td>\n",
              "      <td>35723.4</td>\n",
              "      <td>3.884</td>\n",
              "      <td>1</td>\n",
              "    </tr>\n",
              "    <tr>\n",
              "      <th>3</th>\n",
              "      <td>35735.1</td>\n",
              "      <td>35735.1</td>\n",
              "      <td>35720.0</td>\n",
              "      <td>35727.6</td>\n",
              "      <td>1.684</td>\n",
              "      <td>0</td>\n",
              "    </tr>\n",
              "    <tr>\n",
              "      <th>4</th>\n",
              "      <td>35727.2</td>\n",
              "      <td>35850.0</td>\n",
              "      <td>35714.0</td>\n",
              "      <td>35831.6</td>\n",
              "      <td>3.474</td>\n",
              "      <td>1</td>\n",
              "    </tr>\n",
              "  </tbody>\n",
              "</table>\n",
              "</div>\n",
              "      <button class=\"colab-df-convert\" onclick=\"convertToInteractive('df-1143bb08-1907-4fed-a5ea-5ed641e41649')\"\n",
              "              title=\"Convert this dataframe to an interactive table.\"\n",
              "              style=\"display:none;\">\n",
              "        \n",
              "  <svg xmlns=\"http://www.w3.org/2000/svg\" height=\"24px\"viewBox=\"0 0 24 24\"\n",
              "       width=\"24px\">\n",
              "    <path d=\"M0 0h24v24H0V0z\" fill=\"none\"/>\n",
              "    <path d=\"M18.56 5.44l.94 2.06.94-2.06 2.06-.94-2.06-.94-.94-2.06-.94 2.06-2.06.94zm-11 1L8.5 8.5l.94-2.06 2.06-.94-2.06-.94L8.5 2.5l-.94 2.06-2.06.94zm10 10l.94 2.06.94-2.06 2.06-.94-2.06-.94-.94-2.06-.94 2.06-2.06.94z\"/><path d=\"M17.41 7.96l-1.37-1.37c-.4-.4-.92-.59-1.43-.59-.52 0-1.04.2-1.43.59L10.3 9.45l-7.72 7.72c-.78.78-.78 2.05 0 2.83L4 21.41c.39.39.9.59 1.41.59.51 0 1.02-.2 1.41-.59l7.78-7.78 2.81-2.81c.8-.78.8-2.07 0-2.86zM5.41 20L4 18.59l7.72-7.72 1.47 1.35L5.41 20z\"/>\n",
              "  </svg>\n",
              "      </button>\n",
              "      \n",
              "  <style>\n",
              "    .colab-df-container {\n",
              "      display:flex;\n",
              "      flex-wrap:wrap;\n",
              "      gap: 12px;\n",
              "    }\n",
              "\n",
              "    .colab-df-convert {\n",
              "      background-color: #E8F0FE;\n",
              "      border: none;\n",
              "      border-radius: 50%;\n",
              "      cursor: pointer;\n",
              "      display: none;\n",
              "      fill: #1967D2;\n",
              "      height: 32px;\n",
              "      padding: 0 0 0 0;\n",
              "      width: 32px;\n",
              "    }\n",
              "\n",
              "    .colab-df-convert:hover {\n",
              "      background-color: #E2EBFA;\n",
              "      box-shadow: 0px 1px 2px rgba(60, 64, 67, 0.3), 0px 1px 3px 1px rgba(60, 64, 67, 0.15);\n",
              "      fill: #174EA6;\n",
              "    }\n",
              "\n",
              "    [theme=dark] .colab-df-convert {\n",
              "      background-color: #3B4455;\n",
              "      fill: #D2E3FC;\n",
              "    }\n",
              "\n",
              "    [theme=dark] .colab-df-convert:hover {\n",
              "      background-color: #434B5C;\n",
              "      box-shadow: 0px 1px 3px 1px rgba(0, 0, 0, 0.15);\n",
              "      filter: drop-shadow(0px 1px 2px rgba(0, 0, 0, 0.3));\n",
              "      fill: #FFFFFF;\n",
              "    }\n",
              "  </style>\n",
              "\n",
              "      <script>\n",
              "        const buttonEl =\n",
              "          document.querySelector('#df-1143bb08-1907-4fed-a5ea-5ed641e41649 button.colab-df-convert');\n",
              "        buttonEl.style.display =\n",
              "          google.colab.kernel.accessAllowed ? 'block' : 'none';\n",
              "\n",
              "        async function convertToInteractive(key) {\n",
              "          const element = document.querySelector('#df-1143bb08-1907-4fed-a5ea-5ed641e41649');\n",
              "          const dataTable =\n",
              "            await google.colab.kernel.invokeFunction('convertToInteractive',\n",
              "                                                     [key], {});\n",
              "          if (!dataTable) return;\n",
              "\n",
              "          const docLinkHtml = 'Like what you see? Visit the ' +\n",
              "            '<a target=\"_blank\" href=https://colab.research.google.com/notebooks/data_table.ipynb>data table notebook</a>'\n",
              "            + ' to learn more about interactive tables.';\n",
              "          element.innerHTML = '';\n",
              "          dataTable['output_type'] = 'display_data';\n",
              "          await google.colab.output.renderOutput(dataTable, element);\n",
              "          const docLink = document.createElement('div');\n",
              "          docLink.innerHTML = docLinkHtml;\n",
              "          element.appendChild(docLink);\n",
              "        }\n",
              "      </script>\n",
              "    </div>\n",
              "  </div>\n",
              "  "
            ]
          },
          "metadata": {},
          "execution_count": 85
        }
      ],
      "source": [
        "btc_df = pd.read_csv('https://drive.google.com/uc?export=download&id=1-FmXzXANW85DmNbKKKoDkZr7w3cZEZi1', parse_dates=['open_time'])\n",
        "btc_df = btc_df.sort_values('open_time').reset_index(drop=True)\n",
        "btc_df = btc_df[['open', 'high', 'low', 'close', 'volume']]\n",
        "btc_df['label'] = (btc_df['open'] < btc_df['close']).astype(int)\n",
        "btc_df.head()"
      ]
    },
    {
      "cell_type": "code",
      "execution_count": 86,
      "metadata": {
        "id": "bmIipy7agxDA"
      },
      "outputs": [],
      "source": [
        "train_df = btc_df.iloc[:int(len(btc_df)*0.8),:]\n",
        "test_df = btc_df.iloc[int(len(btc_df)*0.8):,:]"
      ]
    },
    {
      "cell_type": "code",
      "execution_count": 87,
      "metadata": {
        "id": "CfHB7Ck_gxDB"
      },
      "outputs": [],
      "source": [
        "def create_sequences(input_data: pd.DataFrame, target_column, sequence_length):\n",
        "    sequences = []\n",
        "    data_size = len(input_data)\n",
        "    \n",
        "    for i in tqdm(range(data_size - sequence_length)):\n",
        "        seq = input_data[i:i+sequence_length]\n",
        "        label = input_data.iloc[i + sequence_length][target_column]\n",
        "        sequences.append((seq, label))\n",
        "    return sequences"
      ]
    },
    {
      "cell_type": "code",
      "execution_count": 88,
      "metadata": {
        "colab": {
          "base_uri": "https://localhost:8080/"
        },
        "id": "GP0jKPEpgxDC",
        "outputId": "a4dfbbec-c30d-48e8-c314-a927dac6c7cd"
      },
      "outputs": [
        {
          "output_type": "stream",
          "name": "stderr",
          "text": [
            "100%|██████████| 102200/102200 [00:15<00:00, 6614.33it/s]\n",
            "100%|██████████| 25528/25528 [00:04<00:00, 6367.03it/s]\n"
          ]
        }
      ],
      "source": [
        "SEQUENCE_LENGTH = 30\n",
        "train_sequences = create_sequences(train_df, 'label', SEQUENCE_LENGTH)\n",
        "test_sequences = create_sequences(test_df, 'label', SEQUENCE_LENGTH)"
      ]
    },
    {
      "cell_type": "code",
      "execution_count": 89,
      "metadata": {
        "colab": {
          "base_uri": "https://localhost:8080/"
        },
        "id": "Wu6it98igxDD",
        "outputId": "b31d2af4-4b74-4c1d-b848-5bd43f87258b"
      },
      "outputs": [
        {
          "output_type": "execute_result",
          "data": {
            "text/plain": [
              "(open      float64\n",
              " high      float64\n",
              " low       float64\n",
              " close     float64\n",
              " volume    float64\n",
              " label       int64\n",
              " dtype: object, numpy.float64)"
            ]
          },
          "metadata": {},
          "execution_count": 89
        }
      ],
      "source": [
        "train_sequences[0][0].dtypes, type(train_sequences[0][1])"
      ]
    },
    {
      "cell_type": "code",
      "execution_count": 91,
      "metadata": {
        "colab": {
          "base_uri": "https://localhost:8080/"
        },
        "id": "cvdqKdHugxDE",
        "outputId": "49a36a85-337e-4076-c08d-c4a9a9d0b168"
      },
      "outputs": [
        {
          "output_type": "stream",
          "name": "stdout",
          "text": [
            "train length: 102230\n",
            "test length: 25558\n",
            "train data shape (102230, 4)\n",
            "train label shape (102230,)\n",
            "test data shape (25558, 4)\n",
            "test label shape (25558,)\n",
            "unique train label [0 1]\n",
            "unique test label [0 1]\n"
          ]
        }
      ],
      "source": [
        "X_train = np.float32(train_df.iloc[:,:-2].values)\n",
        "y_train = np.int64(train_df.iloc[:,-1].values)\n",
        "\n",
        "X_test = np.float32(test_df.iloc[:,:-2].values)\n",
        "y_test = np.int64(test_df.iloc[:,-1].values)\n",
        "\n",
        "print(f'train length: {len(X_train)}')\n",
        "print(f'test length: {len(X_test)}')\n",
        "print('unique train label',np.unique(y_train))\n",
        "print('unique test label',np.unique(y_test))"
      ]
    },
    {
      "cell_type": "code",
      "source": [
        "X_train.shape, y_train.shape, X_test.shape, y_test.shape"
      ],
      "metadata": {
        "id": "z8obgnvXVm0C"
      },
      "execution_count": null,
      "outputs": []
    },
    {
      "cell_type": "code",
      "execution_count": 92,
      "metadata": {
        "id": "X22UlOZcgxDH"
      },
      "outputs": [],
      "source": [
        "Result_log_folder = './Results_of_OS_CNN/OS_CNN_result_iter_0/'\n",
        "dataset_name = \"btc\""
      ]
    },
    {
      "cell_type": "code",
      "execution_count": 103,
      "metadata": {
        "id": "0bsoXN6v2O8j"
      },
      "outputs": [],
      "source": [
        "# creat model and log save place,\n",
        "model = OS_CNN_easy_use(\n",
        "    Result_log_folder = Result_log_folder, # the Result_log_folder,\n",
        "    dataset_name = dataset_name,           # dataset_name for creat log under Result_log_folder,\n",
        "    device = \"cuda:0\",                # Gpu \n",
        "    max_epoch = 500,                        # In our expirement the number is 2000 for keep it same with FCN for the example dataset 500 will be enough,\n",
        "    paramenter_number_of_layer_list = [8*128, 5*128*256 + 2*256*128],\n",
        "    )"
      ]
    },
    {
      "cell_type": "code",
      "execution_count": 104,
      "metadata": {
        "colab": {
          "base_uri": "https://localhost:8080/"
        },
        "id": "yk1Xi7uf2SZJ",
        "outputId": "11c03572-9e15-44e5-df1a-056318cd8ac7"
      },
      "outputs": [
        {
          "output_type": "stream",
          "name": "stdout",
          "text": [
            "code is running on  cuda:0\n",
            "epoch = 49 lr =  0.001\n",
            "train_acc=\t 0.8362809351462389 \t test_acc=\t 0.772869551608107 \t loss=\t 0.4696478545665741\n",
            "log saved at:\n",
            "./Results_of_OS_CNN/OS_CNN_result_iter_0/btc/btc_.txt\n",
            "epoch = 99 lr =  0.001\n",
            "train_acc=\t 0.9144478137533014 \t test_acc=\t 0.7423898583613742 \t loss=\t 0.07084573060274124\n",
            "log saved at:\n",
            "./Results_of_OS_CNN/OS_CNN_result_iter_0/btc/btc_.txt\n",
            "epoch = 149 lr =  0.0005\n",
            "train_acc=\t 0.9105252861195344 \t test_acc=\t 0.905782925111511 \t loss=\t 0.21111321449279785\n",
            "log saved at:\n",
            "./Results_of_OS_CNN/OS_CNN_result_iter_0/btc/btc_.txt\n",
            "epoch = 199 lr =  0.00025\n",
            "train_acc=\t 0.9591802797613225 \t test_acc=\t 0.9470615854135691 \t loss=\t 0.42273613810539246\n",
            "log saved at:\n",
            "./Results_of_OS_CNN/OS_CNN_result_iter_0/btc/btc_.txt\n",
            "epoch = 249 lr =  0.000125\n",
            "train_acc=\t 0.9507385307639636 \t test_acc=\t 0.8961968855152985 \t loss=\t 0.00851582083851099\n",
            "log saved at:\n",
            "./Results_of_OS_CNN/OS_CNN_result_iter_0/btc/btc_.txt\n",
            "epoch = 299 lr =  0.0001\n",
            "train_acc=\t 0.944429228210897 \t test_acc=\t 0.9063698254949527 \t loss=\t 0.26450154185295105\n",
            "log saved at:\n",
            "./Results_of_OS_CNN/OS_CNN_result_iter_0/btc/btc_.txt\n",
            "epoch = 349 lr =  0.0001\n",
            "train_acc=\t 0.952655776190942 \t test_acc=\t 0.943579309805149 \t loss=\t 0.6785483956336975\n",
            "log saved at:\n",
            "./Results_of_OS_CNN/OS_CNN_result_iter_0/btc/btc_.txt\n",
            "epoch = 399 lr =  0.0001\n",
            "train_acc=\t 0.9513450063582118 \t test_acc=\t 0.9193207606228969 \t loss=\t 0.1752275973558426\n",
            "log saved at:\n",
            "./Results_of_OS_CNN/OS_CNN_result_iter_0/btc/btc_.txt\n",
            "epoch = 449 lr =  0.0001\n",
            "train_acc=\t 0.9489582314389122 \t test_acc=\t 0.96862039283199 \t loss=\t 0.3151951730251312\n",
            "log saved at:\n",
            "./Results_of_OS_CNN/OS_CNN_result_iter_0/btc/btc_.txt\n",
            "epoch = 499 lr =  0.0001\n",
            "train_acc=\t 0.9641201212951188 \t test_acc=\t 0.9711636278269035 \t loss=\t 0.28324535489082336\n",
            "log saved at:\n",
            "./Results_of_OS_CNN/OS_CNN_result_iter_0/btc/btc_.txt\n"
          ]
        }
      ],
      "source": [
        "model.fit(X_train, y_train, X_test, y_test)"
      ]
    },
    {
      "cell_type": "code",
      "execution_count": 105,
      "metadata": {
        "id": "AH3_NBZA2UQG",
        "colab": {
          "base_uri": "https://localhost:8080/"
        },
        "outputId": "cd589b86-9f50-4e98-fee6-abfd2838f207"
      },
      "outputs": [
        {
          "output_type": "stream",
          "name": "stdout",
          "text": [
            "correct: [0 1 0 ... 0 1 0]\n",
            "predict: [0. 1. 0. ... 0. 1. 0.]\n"
          ]
        }
      ],
      "source": [
        "y_predict = model.predict(X_test)\n",
        "\n",
        "print('correct:',y_test)\n",
        "print('predict:',y_predict)"
      ]
    },
    {
      "cell_type": "code",
      "execution_count": 106,
      "metadata": {
        "id": "X8OUCWOE3TOH",
        "colab": {
          "base_uri": "https://localhost:8080/"
        },
        "outputId": "18706fe3-e4af-4b81-9387-2de88b930a9d"
      },
      "outputs": [
        {
          "output_type": "stream",
          "name": "stdout",
          "text": [
            "0.9711636278269035\n"
          ]
        }
      ],
      "source": [
        "acc = accuracy_score(y_predict, y_test)\n",
        "print(acc)"
      ]
    }
  ],
  "metadata": {
    "accelerator": "GPU",
    "colab": {
      "collapsed_sections": [],
      "name": "1_1_OS-CNN_easy_use_Run_and_Save_Model_BTC.ipynb",
      "provenance": []
    },
    "interpreter": {
      "hash": "ad2bdc8ecc057115af97d19610ffacc2b4e99fae6737bb82f5d7fb13d2f2c186"
    },
    "kernelspec": {
      "display_name": "Python 3.8.13",
      "language": "python",
      "name": "python3"
    },
    "language_info": {
      "codemirror_mode": {
        "name": "ipython",
        "version": 3
      },
      "file_extension": ".py",
      "mimetype": "text/x-python",
      "name": "python",
      "nbconvert_exporter": "python",
      "pygments_lexer": "ipython3",
      "version": "3.8.13"
    }
  },
  "nbformat": 4,
  "nbformat_minor": 0
}