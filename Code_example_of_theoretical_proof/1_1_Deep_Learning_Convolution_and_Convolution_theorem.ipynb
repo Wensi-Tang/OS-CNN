{
 "cells": [
  {
   "cell_type": "markdown",
   "metadata": {},
   "source": [
    "# Codes here verify the equation: x\\*w = x(\\*)w' = ifft(fft(x).*fft(w'))\n",
    "# x is the input singal\n",
    "# w is the convolutional kernel\n",
    "# * is ths conv operation in deep learning\n",
    "# (*) is the conv in signal processing \n",
    "# .* is the element wise multiply\n",
    "# fft is Fourier transform\n",
    "# ifft is inverse fourier transformation\n",
    "# w' is flip of w"
   ]
  },
  {
   "cell_type": "code",
   "execution_count": 1,
   "metadata": {},
   "outputs": [],
   "source": [
    "###########################"
   ]
  },
  {
   "cell_type": "markdown",
   "metadata": {},
   "source": [
    "# The first part is generat x and w"
   ]
  },
  {
   "cell_type": "code",
   "execution_count": 2,
   "metadata": {},
   "outputs": [
    {
     "name": "stdout",
     "output_type": "stream",
     "text": [
      "the singal X:\n",
      "\n",
      " [0.9037642  0.16311098 0.05093814 0.29195908 0.76054364 0.24063323]\n",
      "\n",
      "the kernal W:\n",
      "\n",
      " [0.89583342 0.53699392 0.8601418  0.74147953]\n",
      "\n"
     ]
    }
   ],
   "source": [
    "import numpy as np\n",
    "import torch\n",
    "import torch.nn as nn\n",
    "import torch.nn.functional as F\n",
    "\n",
    "\n",
    "\n",
    "# buidng two singal\n",
    "input_signal_length = 6\n",
    "kernel_filter_length =4\n",
    "\n",
    "#generate signal x\n",
    "X = np.random.rand(input_signal_length)\n",
    "\n",
    "#generate weight in a filter of 1D CNN\n",
    "w = np.random.rand(kernel_filter_length)\n",
    "\n",
    "print(\"the singal X:\\n\\n\",X, end=\"\\n\\n\")\n",
    "print(\"the kernal W:\\n\\n\", w, end=\"\\n\\n\")\n",
    "\n",
    "# expend dimention of signal to fit requirement of CNN\n",
    "X_torch = torch.from_numpy(X).unsqueeze(0).unsqueeze(0)\n",
    "\n",
    "# expend dimention of filter to fit requirement of CNN\n",
    "w_torch = torch.from_numpy(w).unsqueeze(0).unsqueeze(0)\n",
    "\n"
   ]
  },
  {
   "cell_type": "markdown",
   "metadata": {},
   "source": [
    "# result of x*w"
   ]
  },
  {
   "cell_type": "code",
   "execution_count": 3,
   "metadata": {},
   "outputs": [
    {
     "name": "stdout",
     "output_type": "stream",
     "text": [
      "result of 1D convolution in deep learning: \n",
      "\n",
      " x*w = \n",
      "\n",
      " [[[0.67012266 0.89830881 0.66338403 1.15750748 0.98852749 1.03501233\n",
      "   0.87693272 0.810539   0.21556729]]] \n",
      "\n"
     ]
    }
   ],
   "source": [
    "# the conventional reslut of deep learning\n",
    "m = nn.ConstantPad1d(kernel_filter_length-1, 0)\n",
    "deeplearning_conv_result = F.conv1d(m(X_torch) ,w_torch)\n",
    "print('result of 1D convolution in deep learning: \\n\\n x*w = \\n\\n',deeplearning_conv_result.numpy(),'\\n')"
   ]
  },
  {
   "cell_type": "markdown",
   "metadata": {},
   "source": [
    "# verify: x(\\*)w' = x\\*w"
   ]
  },
  {
   "cell_type": "code",
   "execution_count": 4,
   "metadata": {},
   "outputs": [
    {
     "name": "stdout",
     "output_type": "stream",
     "text": [
      "kernel in signal processing w':\n",
      "\n",
      " [0.74147953 0.8601418  0.53699392 0.89583342]\n",
      "\n",
      "result of 1D convolution in signal processing: \n",
      "\n",
      " x(*)w'= \n",
      "\n",
      " [0.67012266 0.89830881 0.66338403 1.15750748 0.98852749 1.03501233\n",
      " 0.87693272 0.810539   0.21556729]\n",
      "\n",
      "\n",
      "the result is same with the x*w = \n",
      "\n",
      " [[[0.67012266 0.89830881 0.66338403 1.15750748 0.98852749 1.03501233\n",
      "   0.87693272 0.810539   0.21556729]]]\n"
     ]
    }
   ],
   "source": [
    "###########\n",
    "#  this is important:\n",
    "#  conventional in signal processing for x and y_reverse(y') equals to y\n",
    "###########\n",
    "w_reverse = np.flip(w,axis=0)\n",
    "print('kernel in signal processing w\\':\\n\\n',w_reverse, end=\"\\n\\n\")\n",
    "\n",
    "\n",
    "\n",
    "# the conventional reslut of signal processing\n",
    "signal_processing_result = np.convolve(X, w_reverse, mode='full')\n",
    "print('result of 1D convolution in signal processing: \\n\\n x(*)w\\'= \\n\\n',signal_processing_result)\n",
    "print('\\n\\nthe result is same with the x*w = \\n\\n', deeplearning_conv_result.numpy())\n"
   ]
  },
  {
   "cell_type": "markdown",
   "metadata": {},
   "source": [
    "# We need zero padding X and W' to same length for doing fft(x).*fft(w')\n",
    "# the cell below will get X_pad and W'_pad"
   ]
  },
  {
   "cell_type": "code",
   "execution_count": 5,
   "metadata": {},
   "outputs": [
    {
     "name": "stdout",
     "output_type": "stream",
     "text": [
      "the singal X:\n",
      "\n",
      " [0.9037642  0.16311098 0.05093814 0.29195908 0.76054364 0.24063323]\n",
      "\n",
      "the singal X_pad:\n",
      "\n",
      " [0.9037642  0.16311098 0.05093814 0.29195908 0.76054364 0.24063323\n",
      " 0.         0.         0.        ]\n",
      "\n",
      "the kernal W:\n",
      "\n",
      " [0.89583342 0.53699392 0.8601418  0.74147953]\n",
      "\n",
      "the kernal W'_pad:\n",
      "\n",
      " [0.74147953 0.8601418  0.53699392 0.89583342 0.         0.\n",
      " 0.         0.         0.        ]\n",
      "\n"
     ]
    }
   ],
   "source": [
    "print(\"the singal X:\\n\\n\",X, end=\"\\n\\n\")\n",
    "\n",
    "X_pad = np.pad(X, (0,len(w_reverse)-1), 'constant', constant_values=(0, 0))\n",
    "\n",
    "print(\"the singal X_pad:\\n\\n\",X_pad, end=\"\\n\\n\")\n",
    "\n",
    "\n",
    "print(\"the kernal W:\\n\\n\", w, end=\"\\n\\n\")\n",
    "w_reverse_pad = np.pad(w_reverse, (0,len(X)-1), 'constant', constant_values=(0, 0))\n",
    "\n",
    "print(\"the kernal W\\'_pad:\\n\\n\", w_reverse_pad, end=\"\\n\\n\")\n",
    "\n",
    "\n"
   ]
  },
  {
   "cell_type": "markdown",
   "metadata": {},
   "source": [
    "# x\\*w = ifft(fft(x_pad).*fft(w'_pad))"
   ]
  },
  {
   "cell_type": "code",
   "execution_count": 6,
   "metadata": {},
   "outputs": [
    {
     "name": "stdout",
     "output_type": "stream",
     "text": [
      "singal in frequency domain: \n",
      "\n",
      " fft(x_pad) = \n",
      "\n",
      " [ 2.41094927+0.j         -0.04921829-0.5856738j   1.50518837+0.40898113j\n",
      "  0.58811029-0.54740015j  0.8173839 +0.23612299j  0.8173839 -0.23612299j\n",
      "  0.58811029+0.54740015j  1.50518837-0.40898113j -0.04921829+0.5856738j ]\n",
      "\n",
      "kernel in frequency domain: \n",
      "\n",
      " fft(w'_pad) = \n",
      "\n",
      " [ 3.03444867+0.j          1.04571768-1.85753877j -0.06168435-0.25492255j\n",
      "  0.9387451 -0.27985427j -0.10334487-0.72482728j -0.10334487+0.72482728j\n",
      "  0.9387451 +0.27985427j -0.06168435+0.25492255j  1.04571768+1.85753877j]\n",
      "\n",
      "conv result in frequency domain: \n",
      "\n",
      " fft(x_pad).fft(w'_pad) = \n",
      "\n",
      " [ 7.31590181+0.j         -1.13938023-0.52102457j  0.01141195-0.40893419j\n",
      "  0.39889338-0.67845438j  0.08667595-0.61686425j  0.08667595+0.61686425j\n",
      "  0.39889338+0.67845438j  0.01141195+0.40893419j -1.13938023+0.52102457j]\n",
      "\n",
      "reconstruct result from frequency domain result: \n",
      "\n",
      " ifft(fft(x_pad).fft(w'_pad) )= \n",
      "\n",
      " [0.67012266-1.23358114e-17j 0.89830881-4.93432455e-17j\n",
      " 0.66338403-4.93432455e-17j 1.15750748-7.92971026e-17j\n",
      " 0.98852749-5.01102595e-17j 1.03501233+8.34288160e-17j\n",
      " 0.87693272+9.16329140e-17j 0.810539  +9.94535050e-17j\n",
      " 0.21556729-3.40855704e-17j]\n",
      "\n",
      "\n",
      "\n",
      "the result is same with the \n",
      "\n",
      " x*w = \n",
      "\n",
      " [[[0.67012266 0.89830881 0.66338403 1.15750748 0.98852749 1.03501233\n",
      "   0.87693272 0.810539   0.21556729]]]\n"
     ]
    }
   ],
   "source": [
    "X_pad_fft = np.fft.fft(X_pad)\n",
    "w_reverse_pad_fft = np.fft.fft(w_reverse_pad)\n",
    "print(\"singal in frequency domain: \\n\\n fft(x_pad) = \\n\\n\",X_pad_fft, end=\"\\n\\n\")\n",
    "print(\"kernel in frequency domain: \\n\\n fft(w\\'_pad) = \\n\\n\",w_reverse_pad_fft, end=\"\\n\\n\")\n",
    "\n",
    "result = np.multiply(X_pad_fft,w_reverse_pad_fft)\n",
    "print(\"conv result in frequency domain: \\n\\n fft(x_pad).fft(w'_pad) = \\n\\n\",result, end=\"\\n\\n\")\n",
    "\n",
    "print(\"reconstruct result from frequency domain result: \\n\\n ifft(fft(x_pad).fft(w'_pad) )= \\n\\n\",np.fft.ifft(result), end=\"\\n\\n\")\n",
    "print('\\n\\nthe result is same with the \\n\\n x*w = \\n\\n', deeplearning_conv_result.numpy())\n"
   ]
  },
  {
   "cell_type": "markdown",
   "metadata": {},
   "source": [
    "# above result might seems different this is because when computer calculate FFT is have some remainders, thus bring a very small complex  number "
   ]
  },
  {
   "cell_type": "markdown",
   "metadata": {},
   "source": [
    "# below is the equation in our paper"
   ]
  },
  {
   "cell_type": "code",
   "execution_count": 7,
   "metadata": {},
   "outputs": [
    {
     "name": "stdout",
     "output_type": "stream",
     "text": [
      "correct result:\n",
      "\n",
      " [0.67012266 0.89830881 0.66338403 1.15750748 0.98852749 1.03501233\n",
      " 0.87693272 0.810539   0.21556729]\n",
      "\n",
      "result calculated by the equation in the paper:\n",
      "\n",
      "\n",
      "0.670122656166945\t0.8983088139564156\t0.6633840339807204\t1.157507483867864\t0.988527489182509\t1.0350123316819304\t0.8769327167326233\t0.8105389966910408\t0.2155672916434485\t"
     ]
    }
   ],
   "source": [
    "# varification of singal processing conv equation\n",
    "\n",
    "def maumal_conv(x,y,n):\n",
    "    N = len(x)\n",
    "    M = len(y)\n",
    "    result = 0\n",
    "    for m in range(M):\n",
    "        if n-M+1+m <N and n-M+1+m>= 0:\n",
    "            temp = x[n-M+1+m]\n",
    "        else:\n",
    "            temp = 0.0\n",
    "        result = result+ temp*y[M-1-m]\n",
    "    return result\n",
    "        \n",
    "\n",
    "\n",
    "signal_processing_result = np.convolve(X, w_reverse, mode='full')\n",
    "\n",
    "print(\"correct result:\\n\\n\",signal_processing_result,end='\\n\\n')\n",
    "\n",
    "print(\"result calculated by the equation in the paper:\\n\\n\")\n",
    "for i in range(input_signal_length+kernel_filter_length-1):\n",
    "    print(maumal_conv(X,w_reverse,i),end='\\t')\n"
   ]
  },
  {
   "cell_type": "code",
   "execution_count": null,
   "metadata": {},
   "outputs": [],
   "source": []
  },
  {
   "cell_type": "code",
   "execution_count": null,
   "metadata": {},
   "outputs": [],
   "source": []
  }
 ],
 "metadata": {
  "kernelspec": {
   "display_name": "Python 3",
   "language": "python",
   "name": "python3"
  },
  "language_info": {
   "codemirror_mode": {
    "name": "ipython",
    "version": 3
   },
   "file_extension": ".py",
   "mimetype": "text/x-python",
   "name": "python",
   "nbconvert_exporter": "python",
   "pygments_lexer": "ipython3",
   "version": "3.6.8"
  }
 },
 "nbformat": 4,
 "nbformat_minor": 2
}
