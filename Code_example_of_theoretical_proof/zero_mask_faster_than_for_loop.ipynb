{
 "cells": [
  {
   "cell_type": "code",
   "execution_count": 1,
   "id": "ad7443c2",
   "metadata": {},
   "outputs": [],
   "source": [
    "import torch\n",
    "import torch.nn as nn\n",
    "import torch.nn.functional as F\n",
    "import math\n",
    "import numpy as np\n",
    "\n",
    "\n",
    "class SampaddingConv1D_BN(nn.Module):\n",
    "    def __init__(self,in_channels,out_channels,kernel_size):\n",
    "        super(SampaddingConv1D_BN, self).__init__()\n",
    "        self.padding = nn.ConstantPad1d((int((kernel_size-1)/2), int(kernel_size/2)), 0)\n",
    "        self.conv1d = torch.nn.Conv1d(in_channels=in_channels, out_channels=out_channels, kernel_size=kernel_size)\n",
    "        self.bn = nn.BatchNorm1d(num_features=out_channels)\n",
    "        \n",
    "    def forward(self, X):\n",
    "        X = self.padding(X)\n",
    "        X = self.conv1d(X)\n",
    "        X = self.bn(X)\n",
    "        return X\n",
    "    \n",
    "class build_layer_with_layer_parameter_for_loop(nn.Module):\n",
    "    def __init__(self,layer_parameters): \n",
    "        super(build_layer_with_layer_parameter_for_loop, self).__init__()\n",
    "        self.conv_list = nn.ModuleList()\n",
    "#############################################################################        \n",
    "        for i in layer_parameters:\n",
    "            conv = SampaddingConv1D_BN(i[0],i[1],i[2])\n",
    "            self.conv_list.append(conv)\n",
    "#############################################################################       \n",
    "    def forward(self, X):\n",
    "        \n",
    "        conv_result_list = []\n",
    "        for conv in self.conv_list:\n",
    "            conv_result = conv(X)\n",
    "            conv_result_list.append(conv_result)\n",
    "            \n",
    "        result = F.relu(torch.cat(tuple(conv_result_list), 1))\n",
    "        return result"
   ]
  },
  {
   "cell_type": "code",
   "execution_count": 2,
   "id": "daa6a336",
   "metadata": {},
   "outputs": [],
   "source": [
    "#############################################################################  \n",
    "def calculate_mask_index(kernel_length_now,largest_kernel_lenght):\n",
    "    right_zero_mast_length = math.ceil((largest_kernel_lenght-1)/2)-math.ceil((kernel_length_now-1)/2)\n",
    "    left_zero_mask_length = largest_kernel_lenght - kernel_length_now - right_zero_mast_length\n",
    "    return left_zero_mask_length, left_zero_mask_length+ kernel_length_now\n",
    "#############################################################################  \n",
    "def creat_mask(number_of_input_channel,number_of_output_channel, kernel_length_now, largest_kernel_lenght):\n",
    "    ind_left, ind_right= calculate_mask_index(kernel_length_now,largest_kernel_lenght)\n",
    "    mask = np.ones((number_of_input_channel,number_of_output_channel,largest_kernel_lenght))\n",
    "    mask[:,:,0:ind_left]=0\n",
    "    mask[:,:,ind_right:]=0\n",
    "    return mask\n",
    "\n",
    "\n",
    "def creak_layer_mask(layer_parameter_list):\n",
    "    largest_kernel_lenght = layer_parameter_list[-1][-1]\n",
    "    mask_list = []\n",
    "    init_weight_list = []\n",
    "    bias_list = []\n",
    "    for i in layer_parameter_list:\n",
    "        conv = torch.nn.Conv1d(in_channels=i[0], out_channels=i[1], kernel_size=i[2])\n",
    "        ind_l,ind_r= calculate_mask_index(i[2],largest_kernel_lenght)\n",
    "        big_weight = np.zeros((i[1],i[0],largest_kernel_lenght))\n",
    "        big_weight[:,:,ind_l:ind_r]= conv.weight.detach().numpy()\n",
    "        \n",
    "        bias_list.append(conv.bias.detach().numpy())\n",
    "        init_weight_list.append(big_weight)\n",
    "        \n",
    "        mask = creat_mask(i[1],i[0],i[2], largest_kernel_lenght)\n",
    "        mask_list.append(mask)\n",
    "        \n",
    "    mask = np.concatenate(mask_list, axis=0)\n",
    "    init_weight = np.concatenate(init_weight_list, axis=0)\n",
    "    init_bias = np.concatenate(bias_list, axis=0)\n",
    "    return mask.astype(np.float32), init_weight.astype(np.float32), init_bias.astype(np.float32)\n",
    "\n",
    "    \n",
    "class build_layer_with_layer_parameter_mask(nn.Module):\n",
    "    def __init__(self,layer_parameters):\n",
    "        super(build_layer_with_layer_parameter_mask, self).__init__()\n",
    "\n",
    "        os_mask, init_weight, init_bias= creak_layer_mask(layer_parameters)\n",
    "        \n",
    "        \n",
    "        in_channels = os_mask.shape[1] \n",
    "        out_channels = os_mask.shape[0] \n",
    "        max_kernel_size = os_mask.shape[-1]\n",
    "\n",
    "        self.weight_mask = nn.Parameter(torch.from_numpy(os_mask),requires_grad=False)\n",
    "        \n",
    "        self.padding = nn.ConstantPad1d((int((max_kernel_size-1)/2), int(max_kernel_size/2)), 0)\n",
    "         \n",
    "        self.conv1d = torch.nn.Conv1d(in_channels=in_channels, out_channels=out_channels, kernel_size=max_kernel_size)\n",
    "        self.conv1d.weight = nn.Parameter(torch.from_numpy(init_weight),requires_grad=True)\n",
    "        self.conv1d.bias =  nn.Parameter(torch.from_numpy(init_bias),requires_grad=True)\n",
    "\n",
    "        self.bn = nn.BatchNorm1d(num_features=out_channels)\n",
    "    \n",
    "    def forward(self, X):\n",
    "        self.conv1d.weight.data = self.conv1d.weight*self.weight_mask\n",
    "        #self.conv1d.weight.data.mul_(self.weight_mask)\n",
    "        result_1 = self.padding(X)\n",
    "        result_2 = self.conv1d(result_1)\n",
    "        result_3 = self.bn(result_2)\n",
    "        result = F.relu(result_3)\n",
    "        return result    "
   ]
  },
  {
   "cell_type": "code",
   "execution_count": 3,
   "id": "4706123b",
   "metadata": {},
   "outputs": [],
   "source": [
    "layer_parameters = [(1, 10, 1), (1, 10, 2), (1, 10, 3), (1, 10, 5), (1, 10, 7), (1, 10, 11), (1, 10, 13), (1, 10, 17), (1, 10, 19), (1, 10, 23)]"
   ]
  },
  {
   "cell_type": "code",
   "execution_count": 4,
   "id": "3f82878c",
   "metadata": {},
   "outputs": [
    {
     "name": "stdout",
     "output_type": "stream",
     "text": [
      "0.2979147434234619\n"
     ]
    }
   ],
   "source": [
    "import time\n",
    "\n",
    "layer_for= build_layer_with_layer_parameter_for_loop(layer_parameters)\n",
    "input_tensor = torch.randn(10, 1, 200)\n",
    "\n",
    "start = time.time()\n",
    "for i in range(100):\n",
    "    temp = layer_for(input_tensor)\n",
    "end = time.time()\n",
    "print(end-start)"
   ]
  },
  {
   "cell_type": "code",
   "execution_count": 5,
   "id": "b2fbd33b",
   "metadata": {},
   "outputs": [
    {
     "name": "stdout",
     "output_type": "stream",
     "text": [
      "0.09134984016418457\n"
     ]
    }
   ],
   "source": [
    "import time\n",
    "\n",
    "layer_mask= build_layer_with_layer_parameter_mask(layer_parameters)\n",
    "input_tensor = torch.randn(10, 1, 200)\n",
    "\n",
    "start = time.time()\n",
    "for i in range(100):\n",
    "    temp = layer_mask(input_tensor)\n",
    "end = time.time()\n",
    "print(end-start)"
   ]
  },
  {
   "cell_type": "code",
   "execution_count": 6,
   "id": "ba5ea830",
   "metadata": {},
   "outputs": [
    {
     "name": "stdout",
     "output_type": "stream",
     "text": [
      "False\n",
      "True\n",
      "0.3223726749420166\n"
     ]
    }
   ],
   "source": [
    "layer_for= build_layer_with_layer_parameter_for_loop(layer_parameters)\n",
    "print(next(layer_for.parameters()).is_cuda)\n",
    "layer_for = layer_for.to('cuda:0')\n",
    "print(next(layer_for.parameters()).is_cuda)\n",
    "\n",
    "input_tensor = torch.randn(5, 1, 200)\n",
    "input_tensor = input_tensor.to('cuda:0')\n",
    "\n",
    "\n",
    "start = time.time()\n",
    "for i in range(100):\n",
    "    temp = layer_for(input_tensor)\n",
    "end = time.time()\n",
    "print(end-start)"
   ]
  },
  {
   "cell_type": "code",
   "execution_count": 7,
   "id": "e2c3242f",
   "metadata": {},
   "outputs": [
    {
     "name": "stdout",
     "output_type": "stream",
     "text": [
      "False\n",
      "True\n",
      "0.024903297424316406\n"
     ]
    }
   ],
   "source": [
    "layer_mask= build_layer_with_layer_parameter_mask(layer_parameters)\n",
    "print(next(layer_mask.parameters()).is_cuda)\n",
    "layer_mask = layer_mask.to('cuda:0')\n",
    "print(next(layer_mask.parameters()).is_cuda)\n",
    "\n",
    "input_tensor = torch.randn(5, 1, 200)\n",
    "input_tensor = input_tensor.to('cuda:0')\n",
    "\n",
    "\n",
    "start = time.time()\n",
    "for i in range(100):\n",
    "    temp = layer_mask(input_tensor)\n",
    "end = time.time()\n",
    "print(end-start)"
   ]
  },
  {
   "cell_type": "code",
   "execution_count": null,
   "id": "f8c54a7f",
   "metadata": {},
   "outputs": [],
   "source": []
  }
 ],
 "metadata": {
  "kernelspec": {
   "display_name": "Python 3",
   "language": "python",
   "name": "python3"
  },
  "language_info": {
   "codemirror_mode": {
    "name": "ipython",
    "version": 3
   },
   "file_extension": ".py",
   "mimetype": "text/x-python",
   "name": "python",
   "nbconvert_exporter": "python",
   "pygments_lexer": "ipython3",
   "version": "3.8.10"
  }
 },
 "nbformat": 4,
 "nbformat_minor": 5
}
