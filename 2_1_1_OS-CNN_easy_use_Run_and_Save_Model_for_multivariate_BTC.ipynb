{
  "cells": [
    {
      "cell_type": "code",
      "execution_count": 1,
      "metadata": {
        "colab": {
          "base_uri": "https://localhost:8080/"
        },
        "id": "FRDzgLJDZ9KK",
        "outputId": "85297bcb-160f-463c-e447-af975cf77b74"
      },
      "outputs": [
        {
          "name": "stdout",
          "output_type": "stream",
          "text": [
            "Cloning into 'OS-CNN'...\n",
            "remote: Enumerating objects: 557, done.\u001b[K\n",
            "remote: Counting objects: 100% (7/7), done.\u001b[K\n",
            "remote: Compressing objects: 100% (7/7), done.\u001b[K\n",
            "remote: Total 557 (delta 1), reused 4 (delta 0), pack-reused 550\u001b[K\n",
            "Receiving objects: 100% (557/557), 49.18 MiB | 26.01 MiB/s, done.\n",
            "Resolving deltas: 100% (166/166), done.\n",
            "/content/OS-CNN\n"
          ]
        }
      ],
      "source": [
        "# get code from github\n",
        "!git clone https://github.com/Wensi-Tang/OS-CNN.git\n",
        "#change path to OS-CNN\n",
        "%cd /content/OS-CNN"
      ]
    },
    {
      "cell_type": "code",
      "execution_count": 8,
      "metadata": {
        "id": "fE3AsJz7mJoh"
      },
      "outputs": [],
      "source": [
        "import torch\n",
        "from os.path import dirname\n",
        "from utils.dataloader.TSC_data_loader import TSC_data_loader\n",
        "from Classifiers.OS_CNN.OS_CNN_easy_use import OS_CNN_easy_use\n",
        "from sklearn.metrics import accuracy_score\n",
        "import numpy as np\n",
        "import pandas as pd\n",
        "from tqdm import tqdm"
      ]
    },
    {
      "cell_type": "code",
      "execution_count": 9,
      "metadata": {
        "colab": {
          "base_uri": "https://localhost:8080/"
        },
        "id": "9RdGulWsZ9KQ",
        "outputId": "11e87e19-ddf8-47dd-c705-2dcd6e89e566"
      },
      "outputs": [
        {
          "name": "stdout",
          "output_type": "stream",
          "text": [
            "Are we using GPU?:  True\n",
            "the GPU name is:  Tesla T4\n"
          ]
        }
      ],
      "source": [
        "cuda_available = torch.cuda.is_available()\n",
        "print(\"Are we using GPU?: \", cuda_available)\n",
        "if(cuda_available):\n",
        "    print(\"the GPU name is: \",torch.cuda.get_device_name(0))"
      ]
    },
    {
      "cell_type": "code",
      "execution_count": 10,
      "metadata": {
        "colab": {
          "base_uri": "https://localhost:8080/",
          "height": 206
        },
        "id": "Pe9VqrHJZ9KR",
        "outputId": "971a5a63-35c3-433f-f3f0-740628f78382"
      },
      "outputs": [
        {
          "data": {
            "text/html": [
              "\n",
              "  <div id=\"df-c4fd6e3a-039e-4220-9fba-4d8920e74df2\">\n",
              "    <div class=\"colab-df-container\">\n",
              "      <div>\n",
              "<style scoped>\n",
              "    .dataframe tbody tr th:only-of-type {\n",
              "        vertical-align: middle;\n",
              "    }\n",
              "\n",
              "    .dataframe tbody tr th {\n",
              "        vertical-align: top;\n",
              "    }\n",
              "\n",
              "    .dataframe thead th {\n",
              "        text-align: right;\n",
              "    }\n",
              "</style>\n",
              "<table border=\"1\" class=\"dataframe\">\n",
              "  <thead>\n",
              "    <tr style=\"text-align: right;\">\n",
              "      <th></th>\n",
              "      <th>open</th>\n",
              "      <th>high</th>\n",
              "      <th>low</th>\n",
              "      <th>close</th>\n",
              "      <th>volume</th>\n",
              "      <th>label</th>\n",
              "    </tr>\n",
              "  </thead>\n",
              "  <tbody>\n",
              "    <tr>\n",
              "      <th>0</th>\n",
              "      <td>36060.5</td>\n",
              "      <td>36060.5</td>\n",
              "      <td>35807.9</td>\n",
              "      <td>35815.6</td>\n",
              "      <td>10.423</td>\n",
              "      <td>0</td>\n",
              "    </tr>\n",
              "    <tr>\n",
              "      <th>1</th>\n",
              "      <td>35815.5</td>\n",
              "      <td>35939.5</td>\n",
              "      <td>35717.3</td>\n",
              "      <td>35722.0</td>\n",
              "      <td>9.339</td>\n",
              "      <td>0</td>\n",
              "    </tr>\n",
              "    <tr>\n",
              "      <th>2</th>\n",
              "      <td>35715.6</td>\n",
              "      <td>35849.5</td>\n",
              "      <td>35715.6</td>\n",
              "      <td>35723.4</td>\n",
              "      <td>3.884</td>\n",
              "      <td>1</td>\n",
              "    </tr>\n",
              "    <tr>\n",
              "      <th>3</th>\n",
              "      <td>35735.1</td>\n",
              "      <td>35735.1</td>\n",
              "      <td>35720.0</td>\n",
              "      <td>35727.6</td>\n",
              "      <td>1.684</td>\n",
              "      <td>0</td>\n",
              "    </tr>\n",
              "    <tr>\n",
              "      <th>4</th>\n",
              "      <td>35727.2</td>\n",
              "      <td>35850.0</td>\n",
              "      <td>35714.0</td>\n",
              "      <td>35831.6</td>\n",
              "      <td>3.474</td>\n",
              "      <td>1</td>\n",
              "    </tr>\n",
              "  </tbody>\n",
              "</table>\n",
              "</div>\n",
              "      <button class=\"colab-df-convert\" onclick=\"convertToInteractive('df-c4fd6e3a-039e-4220-9fba-4d8920e74df2')\"\n",
              "              title=\"Convert this dataframe to an interactive table.\"\n",
              "              style=\"display:none;\">\n",
              "        \n",
              "  <svg xmlns=\"http://www.w3.org/2000/svg\" height=\"24px\"viewBox=\"0 0 24 24\"\n",
              "       width=\"24px\">\n",
              "    <path d=\"M0 0h24v24H0V0z\" fill=\"none\"/>\n",
              "    <path d=\"M18.56 5.44l.94 2.06.94-2.06 2.06-.94-2.06-.94-.94-2.06-.94 2.06-2.06.94zm-11 1L8.5 8.5l.94-2.06 2.06-.94-2.06-.94L8.5 2.5l-.94 2.06-2.06.94zm10 10l.94 2.06.94-2.06 2.06-.94-2.06-.94-.94-2.06-.94 2.06-2.06.94z\"/><path d=\"M17.41 7.96l-1.37-1.37c-.4-.4-.92-.59-1.43-.59-.52 0-1.04.2-1.43.59L10.3 9.45l-7.72 7.72c-.78.78-.78 2.05 0 2.83L4 21.41c.39.39.9.59 1.41.59.51 0 1.02-.2 1.41-.59l7.78-7.78 2.81-2.81c.8-.78.8-2.07 0-2.86zM5.41 20L4 18.59l7.72-7.72 1.47 1.35L5.41 20z\"/>\n",
              "  </svg>\n",
              "      </button>\n",
              "      \n",
              "  <style>\n",
              "    .colab-df-container {\n",
              "      display:flex;\n",
              "      flex-wrap:wrap;\n",
              "      gap: 12px;\n",
              "    }\n",
              "\n",
              "    .colab-df-convert {\n",
              "      background-color: #E8F0FE;\n",
              "      border: none;\n",
              "      border-radius: 50%;\n",
              "      cursor: pointer;\n",
              "      display: none;\n",
              "      fill: #1967D2;\n",
              "      height: 32px;\n",
              "      padding: 0 0 0 0;\n",
              "      width: 32px;\n",
              "    }\n",
              "\n",
              "    .colab-df-convert:hover {\n",
              "      background-color: #E2EBFA;\n",
              "      box-shadow: 0px 1px 2px rgba(60, 64, 67, 0.3), 0px 1px 3px 1px rgba(60, 64, 67, 0.15);\n",
              "      fill: #174EA6;\n",
              "    }\n",
              "\n",
              "    [theme=dark] .colab-df-convert {\n",
              "      background-color: #3B4455;\n",
              "      fill: #D2E3FC;\n",
              "    }\n",
              "\n",
              "    [theme=dark] .colab-df-convert:hover {\n",
              "      background-color: #434B5C;\n",
              "      box-shadow: 0px 1px 3px 1px rgba(0, 0, 0, 0.15);\n",
              "      filter: drop-shadow(0px 1px 2px rgba(0, 0, 0, 0.3));\n",
              "      fill: #FFFFFF;\n",
              "    }\n",
              "  </style>\n",
              "\n",
              "      <script>\n",
              "        const buttonEl =\n",
              "          document.querySelector('#df-c4fd6e3a-039e-4220-9fba-4d8920e74df2 button.colab-df-convert');\n",
              "        buttonEl.style.display =\n",
              "          google.colab.kernel.accessAllowed ? 'block' : 'none';\n",
              "\n",
              "        async function convertToInteractive(key) {\n",
              "          const element = document.querySelector('#df-c4fd6e3a-039e-4220-9fba-4d8920e74df2');\n",
              "          const dataTable =\n",
              "            await google.colab.kernel.invokeFunction('convertToInteractive',\n",
              "                                                     [key], {});\n",
              "          if (!dataTable) return;\n",
              "\n",
              "          const docLinkHtml = 'Like what you see? Visit the ' +\n",
              "            '<a target=\"_blank\" href=https://colab.research.google.com/notebooks/data_table.ipynb>data table notebook</a>'\n",
              "            + ' to learn more about interactive tables.';\n",
              "          element.innerHTML = '';\n",
              "          dataTable['output_type'] = 'display_data';\n",
              "          await google.colab.output.renderOutput(dataTable, element);\n",
              "          const docLink = document.createElement('div');\n",
              "          docLink.innerHTML = docLinkHtml;\n",
              "          element.appendChild(docLink);\n",
              "        }\n",
              "      </script>\n",
              "    </div>\n",
              "  </div>\n",
              "  "
            ],
            "text/plain": [
              "      open     high      low    close  volume  label\n",
              "0  36060.5  36060.5  35807.9  35815.6  10.423      0\n",
              "1  35815.5  35939.5  35717.3  35722.0   9.339      0\n",
              "2  35715.6  35849.5  35715.6  35723.4   3.884      1\n",
              "3  35735.1  35735.1  35720.0  35727.6   1.684      0\n",
              "4  35727.2  35850.0  35714.0  35831.6   3.474      1"
            ]
          },
          "execution_count": 10,
          "metadata": {},
          "output_type": "execute_result"
        }
      ],
      "source": [
        "btc_df = pd.read_csv('https://drive.google.com/uc?export=download&id=1-FmXzXANW85DmNbKKKoDkZr7w3cZEZi1', parse_dates=['open_time'])\n",
        "btc_df = btc_df.sort_values('open_time').reset_index(drop=True)\n",
        "btc_df = btc_df[['open', 'high', 'low', 'close', 'volume']]\n",
        "btc_df['label'] = (btc_df['open'] < btc_df['close']).astype(int)\n",
        "btc_df.head()"
      ]
    },
    {
      "cell_type": "code",
      "execution_count": 11,
      "metadata": {
        "id": "UjJ5GHzZZ9KS"
      },
      "outputs": [],
      "source": [
        "train_df = btc_df.iloc[:int(len(btc_df)*0.8),:]\n",
        "test_df = btc_df.iloc[int(len(btc_df)*0.8):,:]"
      ]
    },
    {
      "cell_type": "code",
      "execution_count": 12,
      "metadata": {
        "id": "nLyZnNG2Z9KT"
      },
      "outputs": [],
      "source": [
        "def create_sequences(input_data: pd.DataFrame, target_column, sequence_length):\n",
        "    sequences = []\n",
        "    data_size = len(input_data)\n",
        "    \n",
        "    for i in tqdm(range(data_size - sequence_length)):\n",
        "        seq = input_data[i:i+sequence_length]\n",
        "        label = input_data.iloc[i + sequence_length][target_column]\n",
        "        sequences.append((seq, label))\n",
        "    return sequences"
      ]
    },
    {
      "cell_type": "code",
      "execution_count": 13,
      "metadata": {
        "colab": {
          "base_uri": "https://localhost:8080/"
        },
        "id": "XPYRrz0xZ9KV",
        "outputId": "ed09e670-4ace-4099-ea4f-15d8dbae9c75"
      },
      "outputs": [
        {
          "name": "stderr",
          "output_type": "stream",
          "text": [
            "100%|██████████| 102200/102200 [00:15<00:00, 6596.61it/s]\n",
            "100%|██████████| 25528/25528 [00:03<00:00, 6618.72it/s]\n"
          ]
        },
        {
          "data": {
            "text/plain": [
              "(open      float64\n",
              " high      float64\n",
              " low       float64\n",
              " close     float64\n",
              " volume    float64\n",
              " label       int64\n",
              " dtype: object, numpy.float64)"
            ]
          },
          "execution_count": 13,
          "metadata": {},
          "output_type": "execute_result"
        }
      ],
      "source": [
        "SEQUENCE_LENGTH = 30\n",
        "train_sequences = create_sequences(train_df, 'label', SEQUENCE_LENGTH)\n",
        "test_sequences = create_sequences(test_df, 'label', SEQUENCE_LENGTH)\n",
        "train_sequences[0][0].dtypes, type(train_sequences[0][1])"
      ]
    },
    {
      "cell_type": "code",
      "execution_count": 14,
      "metadata": {
        "colab": {
          "base_uri": "https://localhost:8080/"
        },
        "id": "Dy3oAKzCZ9KV",
        "outputId": "1935b6b7-ad79-46ec-96ef-0a43e91cf5b6"
      },
      "outputs": [
        {
          "name": "stdout",
          "output_type": "stream",
          "text": [
            "train length: 102230\n",
            "test length: 25558\n",
            "unique train label [0 1]\n",
            "unique test label [0 1]\n"
          ]
        }
      ],
      "source": [
        "X_train = np.float32(train_df.iloc[:,:-2].values)\n",
        "y_train = np.int64(train_df.iloc[:,-1].values)\n",
        "\n",
        "X_test = np.float32(test_df.iloc[:,:-2].values)\n",
        "y_test = np.int64(test_df.iloc[:,-1].values)\n",
        "\n",
        "print(f'train length: {len(X_train)}')\n",
        "print(f'test length: {len(X_test)}')\n",
        "print('unique train label',np.unique(y_train))\n",
        "print('unique test label',np.unique(y_test))"
      ]
    },
    {
      "cell_type": "code",
      "execution_count": 15,
      "metadata": {
        "colab": {
          "base_uri": "https://localhost:8080/"
        },
        "id": "uyZeDN2MZ9KX",
        "outputId": "51dc33d5-5248-4cbe-d2cb-399b6aa44719"
      },
      "outputs": [
        {
          "data": {
            "text/plain": [
              "((102230, 4), (102230,), (25558, 4), (25558,))"
            ]
          },
          "execution_count": 15,
          "metadata": {},
          "output_type": "execute_result"
        }
      ],
      "source": [
        "X_train.shape, y_train.shape, X_test.shape, y_test.shape"
      ]
    },
    {
      "cell_type": "code",
      "execution_count": 16,
      "metadata": {
        "id": "KSrfNUMjZ9KY"
      },
      "outputs": [],
      "source": [
        "Result_log_folder = './Results_of_OS_CNN_for_multivariate/OS_CNN_result_iter_0/'\n",
        "dataset_name = \"btc\""
      ]
    },
    {
      "cell_type": "code",
      "execution_count": 23,
      "metadata": {
        "id": "kzpFOvMUmFH-",
        "scrolled": false
      },
      "outputs": [],
      "source": [
        "# creat model and log save place\n",
        "model = OS_CNN_easy_use(\n",
        "    Result_log_folder = Result_log_folder, # the Result_log_folder\n",
        "    dataset_name = dataset_name,           # dataset_name for creat log under Result_log_folder\n",
        "    device = \"cuda:0\",                     # Gpu \n",
        "    max_epoch = 500,                        # In our expirement the number is 2000 for keep it same with FCN for the example dataset 500 will be enough\n",
        "    paramenter_number_of_layer_list = [8*128*X_train.shape[1], 5*128*256 + 2*256*128]\n",
        "    )\n"
      ]
    },
    {
      "cell_type": "code",
      "execution_count": 24,
      "metadata": {
        "colab": {
          "base_uri": "https://localhost:8080/"
        },
        "id": "SiCJCp8jZ9KZ",
        "outputId": "3cd12fa4-f9e5-4901-8524-53b466aa9ef7"
      },
      "outputs": [
        {
          "name": "stdout",
          "output_type": "stream",
          "text": [
            "code is running on  cuda:0\n",
            "epoch = 49 lr =  0.001\n",
            "train_acc=\t 0.6485865205908247 \t test_acc=\t 0.5694107520150247 \t loss=\t 0.043732330203056335\n",
            "log saved at:\n",
            "./Results_of_OS_CNN/OS_CNN_result_iter_0/btc/btc_.txt\n",
            "epoch = 99 lr =  0.001\n",
            "train_acc=\t 0.7045094394991686 \t test_acc=\t 0.6399561781047031 \t loss=\t 0.6447405219078064\n",
            "log saved at:\n",
            "./Results_of_OS_CNN/OS_CNN_result_iter_0/btc/btc_.txt\n",
            "epoch = 149 lr =  0.0005\n",
            "train_acc=\t 0.6526655580553653 \t test_acc=\t 0.5465998904452618 \t loss=\t 0.14860044419765472\n",
            "log saved at:\n",
            "./Results_of_OS_CNN/OS_CNN_result_iter_0/btc/btc_.txt\n",
            "epoch = 199 lr =  0.00025\n",
            "train_acc=\t 0.7998434901692263 \t test_acc=\t 0.6202363252210659 \t loss=\t 0.6713371872901917\n",
            "log saved at:\n",
            "./Results_of_OS_CNN/OS_CNN_result_iter_0/btc/btc_.txt\n",
            "epoch = 249 lr =  0.000125\n",
            "train_acc=\t 0.7032573608529786 \t test_acc=\t 0.576570936693012 \t loss=\t 0.009805042296648026\n",
            "log saved at:\n",
            "./Results_of_OS_CNN/OS_CNN_result_iter_0/btc/btc_.txt\n",
            "epoch = 299 lr =  0.0001\n",
            "train_acc=\t 0.7190355081678568 \t test_acc=\t 0.6042335080992253 \t loss=\t 0.04714949056506157\n",
            "log saved at:\n",
            "./Results_of_OS_CNN/OS_CNN_result_iter_0/btc/btc_.txt\n",
            "epoch = 349 lr =  0.0001\n",
            "train_acc=\t 0.7478039714369559 \t test_acc=\t 0.619453791376477 \t loss=\t 0.2439248114824295\n",
            "log saved at:\n",
            "./Results_of_OS_CNN/OS_CNN_result_iter_0/btc/btc_.txt\n",
            "epoch = 399 lr =  0.0001\n",
            "train_acc=\t 0.7774430206397339 \t test_acc=\t 0.6147977150011738 \t loss=\t 0.2211664915084839\n",
            "log saved at:\n",
            "./Results_of_OS_CNN/OS_CNN_result_iter_0/btc/btc_.txt\n",
            "epoch = 449 lr =  0.0001\n",
            "train_acc=\t 0.7799960872542306 \t test_acc=\t 0.6204710853744424 \t loss=\t 0.02273569256067276\n",
            "log saved at:\n",
            "./Results_of_OS_CNN/OS_CNN_result_iter_0/btc/btc_.txt\n",
            "epoch = 499 lr =  0.0001\n",
            "train_acc=\t 0.825442629365157 \t test_acc=\t 0.6682447765865873 \t loss=\t 0.5857681035995483\n",
            "log saved at:\n",
            "./Results_of_OS_CNN/OS_CNN_result_iter_0/btc/btc_.txt\n"
          ]
        }
      ],
      "source": [
        "model.fit(X_train, y_train, X_test, y_test)"
      ]
    },
    {
      "cell_type": "code",
      "execution_count": 25,
      "metadata": {
        "colab": {
          "base_uri": "https://localhost:8080/"
        },
        "id": "fQlsgO04Z9Ka",
        "outputId": "c48e46ea-2e9c-4181-fa83-5436da871e0b"
      },
      "outputs": [
        {
          "name": "stdout",
          "output_type": "stream",
          "text": [
            "correct: [0 1 0 ... 0 1 0]\n",
            "predict: [0. 1. 0. ... 0. 1. 0.]\n"
          ]
        }
      ],
      "source": [
        "y_predict = model.predict(X_test)\n",
        "\n",
        "print('correct:',y_test)\n",
        "print('predict:',y_predict)"
      ]
    },
    {
      "cell_type": "code",
      "execution_count": 26,
      "metadata": {
        "colab": {
          "base_uri": "https://localhost:8080/"
        },
        "id": "NodlIOjaZ9Kb",
        "outputId": "f0329a23-0de6-4e76-e4c4-e0d0ec610828"
      },
      "outputs": [
        {
          "name": "stdout",
          "output_type": "stream",
          "text": [
            "0.6682447765865873\n"
          ]
        }
      ],
      "source": [
        "acc = accuracy_score(y_predict, y_test)\n",
        "print(acc)"
      ]
    }
  ],
  "metadata": {
    "accelerator": "GPU",
    "colab": {
      "collapsed_sections": [],
      "name": "2_1_1_OS-CNN_easy_use_Run_and_Save_Model_for_multivariate_BTC.ipynb",
      "provenance": []
    },
    "interpreter": {
      "hash": "f49206fcf84a9145e7e21228cbafa911d1ac18292303b01e865d8267a9c448f7"
    },
    "kernelspec": {
      "display_name": "Python 3.9.7 ('base')",
      "language": "python",
      "name": "python3"
    },
    "language_info": {
      "codemirror_mode": {
        "name": "ipython",
        "version": 3
      },
      "file_extension": ".py",
      "mimetype": "text/x-python",
      "name": "python",
      "nbconvert_exporter": "python",
      "pygments_lexer": "ipython3",
      "version": "3.9.7"
    }
  },
  "nbformat": 4,
  "nbformat_minor": 0
}
